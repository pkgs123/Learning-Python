{
 "cells": [
  {
   "cell_type": "code",
   "execution_count": 2,
   "id": "121a8460-3af5-4be8-beac-87588f8daf25",
   "metadata": {},
   "outputs": [
    {
     "name": "stdout",
     "output_type": "stream",
     "text": [
      "{'Emma', 'Ana', 'Mia', 'Olivia'}\n"
     ]
    }
   ],
   "source": [
    "# Collection of unique ele, contains no duplicates no specific order\n",
    "# Set contains only immutable type\n",
    "# Note: Set can't have list bcz it contains only immutable type.\n",
    "\n",
    "set_string = {\"A\",\"B\",\"C\"}\n",
    "set_name_string = {\"Emma\",\"Olivia\",\"Ana\",\"Mia\"}\n",
    "print(set_name_string)"
   ]
  },
  {
   "cell_type": "code",
   "execution_count": 5,
   "id": "d98530e5-11a1-42c6-a40b-bdef345a1192",
   "metadata": {},
   "outputs": [
    {
     "data": {
      "text/plain": [
       "set()"
      ]
     },
     "execution_count": 5,
     "metadata": {},
     "output_type": "execute_result"
    }
   ],
   "source": [
    "empty_set = set()\n",
    "empty_set"
   ]
  },
  {
   "cell_type": "code",
   "execution_count": 6,
   "id": "ea73c6a5-6d78-4c1e-bc63-128586a2b903",
   "metadata": {},
   "outputs": [
    {
     "name": "stdout",
     "output_type": "stream",
     "text": [
      "<class 'set'>\n"
     ]
    }
   ],
   "source": [
    "print(type(empty_set))"
   ]
  },
  {
   "cell_type": "code",
   "execution_count": 7,
   "id": "f963b162-40aa-40de-9d78-cc4ca47d79f4",
   "metadata": {},
   "outputs": [
    {
     "data": {
      "text/plain": [
       "{1.5, 5, 'Emma', True}"
      ]
     },
     "execution_count": 7,
     "metadata": {},
     "output_type": "execute_result"
    }
   ],
   "source": [
    "mixed_set = {\"Emma\",5,1.5,True}\n",
    "mixed_set"
   ]
  },
  {
   "cell_type": "code",
   "execution_count": 8,
   "id": "b5103ae6-7e85-499c-ab53-d410e9295951",
   "metadata": {},
   "outputs": [
    {
     "data": {
      "text/plain": [
       "{(1, 2, 3), 1.5, 5, 'Emma', True}"
      ]
     },
     "execution_count": 8,
     "metadata": {},
     "output_type": "execute_result"
    }
   ],
   "source": [
    "mixed_set1 = {\"Emma\",5,1.5,True,(1,2,3)}\n",
    "mixed_set1"
   ]
  },
  {
   "cell_type": "code",
   "execution_count": 9,
   "id": "bd0d6275-74d4-4b88-b636-6aab4273261e",
   "metadata": {},
   "outputs": [
    {
     "ename": "TypeError",
     "evalue": "unhashable type: 'list'",
     "output_type": "error",
     "traceback": [
      "\u001b[1;31m---------------------------------------------------------------------------\u001b[0m",
      "\u001b[1;31mTypeError\u001b[0m                                 Traceback (most recent call last)",
      "Cell \u001b[1;32mIn[9], line 1\u001b[0m\n\u001b[1;32m----> 1\u001b[0m set_list \u001b[38;5;241m=\u001b[39m {\u001b[38;5;241m1\u001b[39m,\u001b[38;5;241m2\u001b[39m,\u001b[38;5;241m3\u001b[39m,[\u001b[38;5;241m4\u001b[39m,\u001b[38;5;241m5\u001b[39m,\u001b[38;5;241m6\u001b[39m]}\n\u001b[0;32m      2\u001b[0m set_list\n",
      "\u001b[1;31mTypeError\u001b[0m: unhashable type: 'list'"
     ]
    }
   ],
   "source": [
    "set_list = {1,2,3,[4,5,6]}\n",
    "set_list"
   ]
  },
  {
   "cell_type": "code",
   "execution_count": 10,
   "id": "d04c539d-94df-401e-adf8-22bcdec64154",
   "metadata": {},
   "outputs": [
    {
     "data": {
      "text/plain": [
       "{'Ava', 'Elivia', 'Emma', 'Mia'}"
      ]
     },
     "execution_count": 10,
     "metadata": {},
     "output_type": "execute_result"
    }
   ],
   "source": [
    "stud_set = {\"Emma\",\"Elivia\",\"Ava\",\"Mia\",\"Emma\",\"Ava\"}\n",
    "stud_set"
   ]
  },
  {
   "cell_type": "code",
   "execution_count": 11,
   "id": "b1ad2d94-d50e-48ab-8b1f-096c43921d72",
   "metadata": {},
   "outputs": [
    {
     "ename": "TypeError",
     "evalue": "'set' object is not subscriptable",
     "output_type": "error",
     "traceback": [
      "\u001b[1;31m---------------------------------------------------------------------------\u001b[0m",
      "\u001b[1;31mTypeError\u001b[0m                                 Traceback (most recent call last)",
      "Cell \u001b[1;32mIn[11], line 1\u001b[0m\n\u001b[1;32m----> 1\u001b[0m stud_set[\u001b[38;5;241m1\u001b[39m]\n",
      "\u001b[1;31mTypeError\u001b[0m: 'set' object is not subscriptable"
     ]
    }
   ],
   "source": [
    "stud_set[1] # Set obj doesn't support indexing."
   ]
  },
  {
   "cell_type": "code",
   "execution_count": 13,
   "id": "2f90e6c0-3cb4-4f17-8a33-4ff4b1c8586a",
   "metadata": {},
   "outputs": [
    {
     "data": {
      "text/plain": [
       "{1, 2, 3, 4, 5, 6, 7, 9.5}"
      ]
     },
     "execution_count": 13,
     "metadata": {},
     "output_type": "execute_result"
    }
   ],
   "source": [
    "set_1={1,2,3,4,5,6,7}\n",
    "set_1.add(9.5)\n",
    "set_1"
   ]
  },
  {
   "cell_type": "code",
   "execution_count": 14,
   "id": "c82540ab-53d6-4110-8168-9ab616923f2e",
   "metadata": {},
   "outputs": [
    {
     "data": {
      "text/plain": [
       "{'Ava', 'Avia', 'David', 'Emma', 'Jacob', 'Olivia'}"
      ]
     },
     "execution_count": 14,
     "metadata": {},
     "output_type": "execute_result"
    }
   ],
   "source": [
    "teachers_set = {\"Emma\",\"Olivia\",\"Ava\", \"Avia\",\"Jacob\",\"David\"}\n",
    "teachers_set"
   ]
  },
  {
   "cell_type": "code",
   "execution_count": 16,
   "id": "30f89a7e-8523-4479-9946-d847162fe047",
   "metadata": {},
   "outputs": [
    {
     "data": {
      "text/plain": [
       "6"
      ]
     },
     "execution_count": 16,
     "metadata": {},
     "output_type": "execute_result"
    }
   ],
   "source": [
    "len(teachers_set)"
   ]
  },
  {
   "cell_type": "code",
   "execution_count": 17,
   "id": "63eeaf1b-0ce0-4759-96c0-4bcb095c09d5",
   "metadata": {},
   "outputs": [
    {
     "data": {
      "text/plain": [
       "'Olivia'"
      ]
     },
     "execution_count": 17,
     "metadata": {},
     "output_type": "execute_result"
    }
   ],
   "source": [
    "max(teachers_set)"
   ]
  },
  {
   "cell_type": "code",
   "execution_count": 18,
   "id": "83f917b0-2fe7-4176-87fd-18227e032ada",
   "metadata": {},
   "outputs": [
    {
     "data": {
      "text/plain": [
       "'Ava'"
      ]
     },
     "execution_count": 18,
     "metadata": {},
     "output_type": "execute_result"
    }
   ],
   "source": [
    "min(teachers_set)"
   ]
  },
  {
   "cell_type": "code",
   "execution_count": 20,
   "id": "a831bd50-601d-47f5-b3d6-5dd15e848f39",
   "metadata": {},
   "outputs": [
    {
     "data": {
      "text/plain": [
       "{'Ava', 'Avia', 'David', 'Jacob', 'Olivia'}"
      ]
     },
     "execution_count": 20,
     "metadata": {},
     "output_type": "execute_result"
    }
   ],
   "source": [
    "teachers_set.discard('Emma')\n",
    "teachers_set"
   ]
  },
  {
   "cell_type": "code",
   "execution_count": 23,
   "id": "04b1bfb4-1a2f-48d5-a457-1528a3225c3b",
   "metadata": {},
   "outputs": [
    {
     "ename": "KeyError",
     "evalue": "'Ava'",
     "output_type": "error",
     "traceback": [
      "\u001b[1;31m---------------------------------------------------------------------------\u001b[0m",
      "\u001b[1;31mKeyError\u001b[0m                                  Traceback (most recent call last)",
      "Cell \u001b[1;32mIn[23], line 1\u001b[0m\n\u001b[1;32m----> 1\u001b[0m teachers_set\u001b[38;5;241m.\u001b[39mremove(\u001b[38;5;124m'\u001b[39m\u001b[38;5;124mAva\u001b[39m\u001b[38;5;124m'\u001b[39m)\n\u001b[0;32m      2\u001b[0m teachers_set\n",
      "\u001b[1;31mKeyError\u001b[0m: 'Ava'"
     ]
    }
   ],
   "source": [
    "teachers_set.remove('Ava')\n",
    "teachers_set"
   ]
  },
  {
   "cell_type": "code",
   "execution_count": 25,
   "id": "86f0c017-6562-4cc3-b042-bc20184b5f47",
   "metadata": {},
   "outputs": [
    {
     "data": {
      "text/plain": [
       "{'Avia', 'David', 'Jacob', 'Olivia'}"
      ]
     },
     "execution_count": 25,
     "metadata": {},
     "output_type": "execute_result"
    }
   ],
   "source": [
    "teachers_set.discard('Ava')\n",
    "teachers_set"
   ]
  },
  {
   "cell_type": "code",
   "execution_count": 26,
   "id": "b09914dd-b743-4f1f-96c1-f3ec6ccae847",
   "metadata": {},
   "outputs": [
    {
     "ename": "KeyError",
     "evalue": "'Ava'",
     "output_type": "error",
     "traceback": [
      "\u001b[1;31m---------------------------------------------------------------------------\u001b[0m",
      "\u001b[1;31mKeyError\u001b[0m                                  Traceback (most recent call last)",
      "Cell \u001b[1;32mIn[26], line 1\u001b[0m\n\u001b[1;32m----> 1\u001b[0m teachers_set\u001b[38;5;241m.\u001b[39mremove(\u001b[38;5;124m'\u001b[39m\u001b[38;5;124mAva\u001b[39m\u001b[38;5;124m'\u001b[39m)\n\u001b[0;32m      2\u001b[0m teachers_set\n",
      "\u001b[1;31mKeyError\u001b[0m: 'Ava'"
     ]
    }
   ],
   "source": [
    "teachers_set.remove('Ava')\n",
    "teachers_set"
   ]
  },
  {
   "cell_type": "code",
   "execution_count": 28,
   "id": "56508d48-3020-492d-b27d-4aeb359422f6",
   "metadata": {},
   "outputs": [
    {
     "data": {
      "text/plain": [
       "set()"
      ]
     },
     "execution_count": 28,
     "metadata": {},
     "output_type": "execute_result"
    }
   ],
   "source": [
    "teachers_set.clear()\n",
    "teachers_set"
   ]
  },
  {
   "cell_type": "code",
   "execution_count": 29,
   "id": "e6e24946-f85e-4a16-9094-1c030233576c",
   "metadata": {},
   "outputs": [
    {
     "data": {
      "text/plain": [
       "{1, 2, 3, 4, 5, 6}"
      ]
     },
     "execution_count": 29,
     "metadata": {},
     "output_type": "execute_result"
    }
   ],
   "source": [
    "# Concept of union\n",
    "num_1 = {1,2,3}\n",
    "num_2 = {4,5,6}\n",
    "num_3 = {7,8,9}\n",
    "num_1.union(num_2)"
   ]
  },
  {
   "cell_type": "code",
   "execution_count": 34,
   "id": "89bd2009-c9d2-44d4-bde8-cc60492008ed",
   "metadata": {},
   "outputs": [
    {
     "data": {
      "text/plain": [
       "{1, 2, 3, 4, 5, 6, 7, 8, 9}"
      ]
     },
     "execution_count": 34,
     "metadata": {},
     "output_type": "execute_result"
    }
   ],
   "source": [
    "total_num = num_1.union(num_2,num_3)\n",
    "total_num"
   ]
  },
  {
   "cell_type": "code",
   "execution_count": 35,
   "id": "aa6076b0-6526-4a92-9084-869de15de877",
   "metadata": {},
   "outputs": [
    {
     "data": {
      "text/plain": [
       "{'EK', 'JK', 'MK', 'OK', 'PK', 'SF', 'SK'}"
      ]
     },
     "execution_count": 35,
     "metadata": {},
     "output_type": "execute_result"
    }
   ],
   "source": [
    "stud_set1 = {\"PK\",\"EK\",\"JK\"}\n",
    "stud_set2 = {\"JK\",\"MK\",\"EK\"}\n",
    "stud_set3 = {\"OK\",\"SK\",\"SF\"}\n",
    "stud_set1.union(stud_set2,stud_set3)"
   ]
  },
  {
   "cell_type": "code",
   "execution_count": 39,
   "id": "cf5101da-b5e9-45d4-a6e3-3aa88e066d97",
   "metadata": {},
   "outputs": [
    {
     "data": {
      "text/plain": [
       "{3}"
      ]
     },
     "execution_count": 39,
     "metadata": {},
     "output_type": "execute_result"
    }
   ],
   "source": [
    "num_1 = {1,2,3}\n",
    "num_2 = {4,5,6,3}\n",
    "num_3 = {7,8,9}\n",
    "num_2.intersection(num_1) # find and return common value"
   ]
  },
  {
   "cell_type": "code",
   "execution_count": 41,
   "id": "a5560f80-75a3-4cc3-be0d-fb9b91831184",
   "metadata": {},
   "outputs": [
    {
     "data": {
      "text/plain": [
       "{1, 2}"
      ]
     },
     "execution_count": 41,
     "metadata": {},
     "output_type": "execute_result"
    }
   ],
   "source": [
    "num_1.difference(num_2) # compare the value from num_1 and return those value which doesn't present in num_2"
   ]
  },
  {
   "cell_type": "code",
   "execution_count": 63,
   "id": "cc70ba14-1910-49e6-93de-8d4c8b894c89",
   "metadata": {},
   "outputs": [
    {
     "data": {
      "text/plain": [
       "{4, 5}"
      ]
     },
     "execution_count": 63,
     "metadata": {},
     "output_type": "execute_result"
    }
   ],
   "source": [
    "num_1 = {1,2,3,4,5}\n",
    "num_2 = {4,5,6,7,8}\n",
    "num_1.intersection_update(num_2)\n",
    "num_1"
   ]
  },
  {
   "cell_type": "code",
   "execution_count": 67,
   "id": "4c83f49f-854c-4778-a487-a8b8658af412",
   "metadata": {},
   "outputs": [
    {
     "data": {
      "text/plain": [
       "{1, 2, 3}"
      ]
     },
     "execution_count": 67,
     "metadata": {},
     "output_type": "execute_result"
    }
   ],
   "source": [
    "num_1 = {1,2,3,4,5}\n",
    "num_2 = {4,5,6,7,8}\n",
    "num_1.difference_update(num_2)\n",
    "num_1"
   ]
  },
  {
   "cell_type": "code",
   "execution_count": 69,
   "id": "45af3f30-e6cd-4f7c-addb-6231faa0d970",
   "metadata": {},
   "outputs": [
    {
     "data": {
      "text/plain": [
       "True"
      ]
     },
     "execution_count": 69,
     "metadata": {},
     "output_type": "execute_result"
    }
   ],
   "source": [
    "{1,2,3}.isdisjoint({4,5,6})"
   ]
  },
  {
   "cell_type": "code",
   "execution_count": 70,
   "id": "54862ee9-2ff4-41c1-a43c-e4a5bf9b07e2",
   "metadata": {},
   "outputs": [
    {
     "data": {
      "text/plain": [
       "True"
      ]
     },
     "execution_count": 70,
     "metadata": {},
     "output_type": "execute_result"
    }
   ],
   "source": [
    "num_1.isdisjoint(num_2)"
   ]
  },
  {
   "cell_type": "code",
   "execution_count": 71,
   "id": "c7365c34-8f22-46d5-9a48-55f4f2336a74",
   "metadata": {},
   "outputs": [
    {
     "data": {
      "text/plain": [
       "True"
      ]
     },
     "execution_count": 71,
     "metadata": {},
     "output_type": "execute_result"
    }
   ],
   "source": [
    "{10,20,30}.issuperset({10,20})"
   ]
  },
  {
   "cell_type": "code",
   "execution_count": 72,
   "id": "0f77d341-6fd4-4021-998d-5013382f7bf5",
   "metadata": {},
   "outputs": [
    {
     "data": {
      "text/plain": [
       "True"
      ]
     },
     "execution_count": 72,
     "metadata": {},
     "output_type": "execute_result"
    }
   ],
   "source": [
    "{10,20}.issubset({10,20,30})"
   ]
  },
  {
   "cell_type": "code",
   "execution_count": null,
   "id": "b6e1abf1-5a91-4cea-9942-b3a42e839e1b",
   "metadata": {},
   "outputs": [],
   "source": []
  }
 ],
 "metadata": {
  "kernelspec": {
   "display_name": "Python 3 (ipykernel)",
   "language": "python",
   "name": "python3"
  },
  "language_info": {
   "codemirror_mode": {
    "name": "ipython",
    "version": 3
   },
   "file_extension": ".py",
   "mimetype": "text/x-python",
   "name": "python",
   "nbconvert_exporter": "python",
   "pygments_lexer": "ipython3",
   "version": "3.11.7"
  }
 },
 "nbformat": 4,
 "nbformat_minor": 5
}
