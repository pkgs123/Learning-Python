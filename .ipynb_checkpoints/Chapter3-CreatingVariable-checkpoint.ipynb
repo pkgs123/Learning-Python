{
 "cells": [
  {
   "cell_type": "code",
   "execution_count": 7,
   "id": "8637f391-bc27-454b-91dd-f8d820aafbe3",
   "metadata": {},
   "outputs": [
    {
     "name": "stdout",
     "output_type": "stream",
     "text": [
      "15000\n"
     ]
    }
   ],
   "source": [
    "salary = 24000\n",
    "house_rent = 10000\n",
    "food_exp = 5000\n",
    "total_exp = house_rent + food_exp\n",
    "print(total_exp)"
   ]
  },
  {
   "cell_type": "code",
   "execution_count": 10,
   "id": "ed3edbc7-a99f-43af-b995-76b321a05032",
   "metadata": {},
   "outputs": [
    {
     "name": "stdout",
     "output_type": "stream",
     "text": [
      "9000\n"
     ]
    }
   ],
   "source": [
    "total_exp = 15000\n",
    "savings = salary - total_exp\n",
    "print(savings)\n"
   ]
  },
  {
   "cell_type": "code",
   "execution_count": 11,
   "id": "40620ae9-a032-4990-baac-3a326f548fc8",
   "metadata": {},
   "outputs": [
    {
     "name": "stdout",
     "output_type": "stream",
     "text": [
      "Total Course Fees 1794\n"
     ]
    }
   ],
   "source": [
    "course_fees = 299\n",
    "num_of_months = 6\n",
    "total_fees = course_fees * num_of_months\n",
    "print(\"Total Course Fees\",total_fees)"
   ]
  },
  {
   "cell_type": "code",
   "execution_count": 12,
   "id": "17c688f6-62ed-410a-8a85-c8125d252e60",
   "metadata": {},
   "outputs": [
    {
     "ename": "TypeError",
     "evalue": "unsupported operand type(s) for +: 'int' and 'str'",
     "output_type": "error",
     "traceback": [
      "\u001b[1;31m---------------------------------------------------------------------------\u001b[0m",
      "\u001b[1;31mTypeError\u001b[0m                                 Traceback (most recent call last)",
      "Cell \u001b[1;32mIn[12], line 3\u001b[0m\n\u001b[0;32m      1\u001b[0m num_1 \u001b[38;5;241m=\u001b[39m \u001b[38;5;241m2\u001b[39m\n\u001b[0;32m      2\u001b[0m num_2 \u001b[38;5;241m=\u001b[39m \u001b[38;5;124m\"\u001b[39m\u001b[38;5;124m2\u001b[39m\u001b[38;5;124m\"\u001b[39m\n\u001b[1;32m----> 3\u001b[0m num_1 \u001b[38;5;241m+\u001b[39m num_2\n",
      "\u001b[1;31mTypeError\u001b[0m: unsupported operand type(s) for +: 'int' and 'str'"
     ]
    }
   ],
   "source": [
    "num_1 = 2\n",
    "num_2 = \"2\"\n",
    "num_1 + num_2"
   ]
  },
  {
   "cell_type": "code",
   "execution_count": null,
   "id": "de807a75-6957-454c-9e4d-16d05c8b7bb1",
   "metadata": {},
   "outputs": [],
   "source": []
  },
  {
   "cell_type": "code",
   "execution_count": null,
   "id": "d35e1563-461d-4e6e-9557-7eb8fc552d1f",
   "metadata": {},
   "outputs": [],
   "source": []
  }
 ],
 "metadata": {
  "kernelspec": {
   "display_name": "Python 3 (ipykernel)",
   "language": "python",
   "name": "python3"
  },
  "language_info": {
   "codemirror_mode": {
    "name": "ipython",
    "version": 3
   },
   "file_extension": ".py",
   "mimetype": "text/x-python",
   "name": "python",
   "nbconvert_exporter": "python",
   "pygments_lexer": "ipython3",
   "version": "3.11.7"
  }
 },
 "nbformat": 4,
 "nbformat_minor": 5
}
