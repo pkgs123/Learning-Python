{
 "cells": [
  {
   "cell_type": "code",
   "execution_count": 1,
   "id": "21e047dc-2166-4640-84cb-25c98f848e83",
   "metadata": {},
   "outputs": [
    {
     "name": "stdout",
     "output_type": "stream",
     "text": [
      "L\n"
     ]
    }
   ],
   "source": [
    "my_tuple = (\"E\",\"L\",\"E\",\"P\",\"H\",\"A\",\"N\",\"T\")\n",
    "print(my_tuple[1])"
   ]
  },
  {
   "cell_type": "code",
   "execution_count": 2,
   "id": "b39f36ad-3496-4215-b4d3-f3f53eb8732d",
   "metadata": {},
   "outputs": [
    {
     "name": "stdout",
     "output_type": "stream",
     "text": [
      "('L', 'E', 'P', 'H', 'A', 'N', 'T')\n"
     ]
    }
   ],
   "source": [
    "print(my_tuple[1:])"
   ]
  },
  {
   "cell_type": "code",
   "execution_count": 3,
   "id": "96580b3d-d591-43d5-867d-8a3132675567",
   "metadata": {},
   "outputs": [
    {
     "name": "stdout",
     "output_type": "stream",
     "text": [
      "('E', 'E', 'H', 'N')\n"
     ]
    }
   ],
   "source": [
    "print(my_tuple[: : 2])#Step Size(1+x=2;x=1 so step size =1)"
   ]
  },
  {
   "cell_type": "code",
   "execution_count": 4,
   "id": "3e6c9ac3-ef15-46ad-8121-b25e3f7d2b4f",
   "metadata": {},
   "outputs": [
    {
     "name": "stdout",
     "output_type": "stream",
     "text": [
      "T\n"
     ]
    }
   ],
   "source": [
    "print(my_tuple[-1])"
   ]
  },
  {
   "cell_type": "code",
   "execution_count": 5,
   "id": "f8de88c2-45f2-4328-9a94-c73cca0260f8",
   "metadata": {},
   "outputs": [
    {
     "data": {
      "text/plain": [
       "4"
      ]
     },
     "execution_count": 5,
     "metadata": {},
     "output_type": "execute_result"
    }
   ],
   "source": [
    "my_tuple.index(\"H\")"
   ]
  },
  {
   "cell_type": "code",
   "execution_count": 7,
   "id": "b185fbba-0d7a-4326-8554-dcb47a6f5008",
   "metadata": {},
   "outputs": [
    {
     "name": "stdout",
     "output_type": "stream",
     "text": [
      "True\n"
     ]
    }
   ],
   "source": [
    "print(\"E\" in my_tuple)# Use of in keyword to check ele is present or not in tuple."
   ]
  },
  {
   "cell_type": "code",
   "execution_count": 10,
   "id": "143365f0-8b50-4fbf-85f3-a957f3d0cebd",
   "metadata": {},
   "outputs": [
    {
     "name": "stdout",
     "output_type": "stream",
     "text": [
      "False\n"
     ]
    }
   ],
   "source": [
    "print(\"E\" not in my_tuple)# Use of not in keyword to check ele is not present in tuple."
   ]
  },
  {
   "cell_type": "code",
   "execution_count": 11,
   "id": "3be05e92-e968-48ed-942a-60ee6e4da1ec",
   "metadata": {},
   "outputs": [
    {
     "data": {
      "text/plain": [
       "23"
      ]
     },
     "execution_count": 11,
     "metadata": {},
     "output_type": "execute_result"
    }
   ],
   "source": [
    "int_tuple = (1,4,9,9)\n",
    "sum(int_tuple)"
   ]
  },
  {
   "cell_type": "code",
   "execution_count": 12,
   "id": "6a18ce4c-9e40-45e5-94cb-05b7f1641e29",
   "metadata": {},
   "outputs": [
    {
     "data": {
      "text/plain": [
       "[1, 4, 9, 9]"
      ]
     },
     "execution_count": 12,
     "metadata": {},
     "output_type": "execute_result"
    }
   ],
   "source": [
    "list(int_tuple)#convert tuple into list. "
   ]
  },
  {
   "cell_type": "code",
   "execution_count": 14,
   "id": "ced33a3b-941b-4079-98fe-15f1d421e53d",
   "metadata": {},
   "outputs": [
    {
     "data": {
      "text/plain": [
       "{1, 4, 9}"
      ]
     },
     "execution_count": 14,
     "metadata": {},
     "output_type": "execute_result"
    }
   ],
   "source": [
    "set(int_tuple)#Filter unique ele from tuple using set."
   ]
  },
  {
   "cell_type": "code",
   "execution_count": null,
   "id": "0169a94d-a37b-4f80-9433-347be681085d",
   "metadata": {},
   "outputs": [],
   "source": []
  }
 ],
 "metadata": {
  "kernelspec": {
   "display_name": "Python 3 (ipykernel)",
   "language": "python",
   "name": "python3"
  },
  "language_info": {
   "codemirror_mode": {
    "name": "ipython",
    "version": 3
   },
   "file_extension": ".py",
   "mimetype": "text/x-python",
   "name": "python",
   "nbconvert_exporter": "python",
   "pygments_lexer": "ipython3",
   "version": "3.11.7"
  }
 },
 "nbformat": 4,
 "nbformat_minor": 5
}
