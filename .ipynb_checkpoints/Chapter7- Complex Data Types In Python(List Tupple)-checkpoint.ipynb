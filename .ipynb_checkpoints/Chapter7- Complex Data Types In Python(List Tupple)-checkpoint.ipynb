{
 "cells": [
  {
   "cell_type": "code",
   "execution_count": 4,
   "id": "85183da2-66d2-4a3a-9a23-6ffaadd0609e",
   "metadata": {},
   "outputs": [],
   "source": [
    "empty_list = []"
   ]
  },
  {
   "cell_type": "code",
   "execution_count": 7,
   "id": "31b654b7-b559-43ae-b870-f074961709df",
   "metadata": {},
   "outputs": [
    {
     "name": "stdout",
     "output_type": "stream",
     "text": [
      "<class 'list'>\n"
     ]
    }
   ],
   "source": [
    "list_name = [\"Prashant\",\"Nidhi\",\"Prashi\",\"Girishankar\",\"Pratibha\",\"Saraswati\",\"Siddharth\",\"Khusbu\"]\n",
    "type(list_name)\n",
    "print(type(list_name))"
   ]
  },
  {
   "cell_type": "code",
   "execution_count": 8,
   "id": "bc1b5475-7bff-47a8-8750-02b3205e2ff0",
   "metadata": {},
   "outputs": [
    {
     "name": "stdout",
     "output_type": "stream",
     "text": [
      "<class 'list'>\n",
      "<class 'list'>\n",
      "<class 'list'>\n"
     ]
    }
   ],
   "source": [
    "list_int = [5,7,8,9,20,40]\n",
    "list_float = [5.5,7.8,8.5,9.2,20.5,40.0]\n",
    "list_bool = [True,False]\n",
    "print(type(list_int))\n",
    "print(type(list_float))\n",
    "print(type(list_bool))"
   ]
  },
  {
   "cell_type": "code",
   "execution_count": 11,
   "id": "06603b1c-e2fc-46bc-bdb5-d7d121534395",
   "metadata": {},
   "outputs": [
    {
     "name": "stdout",
     "output_type": "stream",
     "text": [
      "<class 'list'>\n"
     ]
    }
   ],
   "source": [
    "mixed_list = [\"PKS\",1,True,2.5]\n",
    "print(type(mixed_list))"
   ]
  },
  {
   "cell_type": "code",
   "execution_count": 12,
   "id": "81e0b8aa-6167-4722-b662-61b43c6e973e",
   "metadata": {},
   "outputs": [
    {
     "name": "stdout",
     "output_type": "stream",
     "text": [
      "['IN', 'SG', 'ML', 'USA', 'UK', 'CH']\n"
     ]
    }
   ],
   "source": [
    "Country_list = [\"IN\",\"SG\",\"ML\",\"USA\",\"UK\",\"CH\"]\n",
    "print(Country_list)"
   ]
  },
  {
   "cell_type": "code",
   "execution_count": 14,
   "id": "792fc5c1-b30f-4ced-94c1-81786202c709",
   "metadata": {},
   "outputs": [
    {
     "name": "stdout",
     "output_type": "stream",
     "text": [
      "IN\n",
      "ML\n",
      "USA\n",
      "UK\n",
      "CH\n"
     ]
    },
    {
     "ename": "IndexError",
     "evalue": "list index out of range",
     "output_type": "error",
     "traceback": [
      "\u001b[1;31m---------------------------------------------------------------------------\u001b[0m",
      "\u001b[1;31mIndexError\u001b[0m                                Traceback (most recent call last)",
      "Cell \u001b[1;32mIn[14], line 7\u001b[0m\n\u001b[0;32m      5\u001b[0m \u001b[38;5;28mprint\u001b[39m(country_list[\u001b[38;5;241m4\u001b[39m])\n\u001b[0;32m      6\u001b[0m \u001b[38;5;28mprint\u001b[39m(country_list[\u001b[38;5;241m5\u001b[39m])\n\u001b[1;32m----> 7\u001b[0m \u001b[38;5;28mprint\u001b[39m(country_list[\u001b[38;5;241m6\u001b[39m])\n",
      "\u001b[1;31mIndexError\u001b[0m: list index out of range"
     ]
    }
   ],
   "source": [
    "country_list = [\"IN\",\"SG\",\"ML\",\"USA\",\"UK\",\"CH\"]\n",
    "print(country_list[0])\n",
    "print(country_list[2])\n",
    "print(country_list[3])\n",
    "print(country_list[4])\n",
    "print(country_list[5])\n",
    "print(country_list[6])"
   ]
  },
  {
   "cell_type": "code",
   "execution_count": 16,
   "id": "826ac8b2-ff1f-4e86-8882-20e5b66789be",
   "metadata": {},
   "outputs": [
    {
     "name": "stdout",
     "output_type": "stream",
     "text": [
      "CH\n",
      "UK\n",
      "USA\n",
      "ML\n",
      "SG\n",
      "IN\n"
     ]
    },
    {
     "ename": "IndexError",
     "evalue": "list index out of range",
     "output_type": "error",
     "traceback": [
      "\u001b[1;31m---------------------------------------------------------------------------\u001b[0m",
      "\u001b[1;31mIndexError\u001b[0m                                Traceback (most recent call last)",
      "Cell \u001b[1;32mIn[16], line 8\u001b[0m\n\u001b[0;32m      6\u001b[0m \u001b[38;5;28mprint\u001b[39m(country_list[\u001b[38;5;241m-\u001b[39m\u001b[38;5;241m5\u001b[39m])\n\u001b[0;32m      7\u001b[0m \u001b[38;5;28mprint\u001b[39m(country_list[\u001b[38;5;241m-\u001b[39m\u001b[38;5;241m6\u001b[39m])\n\u001b[1;32m----> 8\u001b[0m \u001b[38;5;28mprint\u001b[39m(country_list[\u001b[38;5;241m-\u001b[39m\u001b[38;5;241m7\u001b[39m])\n",
      "\u001b[1;31mIndexError\u001b[0m: list index out of range"
     ]
    }
   ],
   "source": [
    "country_list = [\"IN\",\"SG\",\"ML\",\"USA\",\"UK\",\"CH\"]\n",
    "print(country_list[-1])\n",
    "print(country_list[-2])\n",
    "print(country_list[-3])\n",
    "print(country_list[-4])\n",
    "print(country_list[-5])\n",
    "print(country_list[-6])\n",
    "print(country_list[-7])"
   ]
  },
  {
   "cell_type": "code",
   "execution_count": 21,
   "id": "61f1d6c4-386e-4934-9a3c-cc7aaf11ed06",
   "metadata": {},
   "outputs": [
    {
     "name": "stdout",
     "output_type": "stream",
     "text": [
      "Now Country at position 2 is: FR\n"
     ]
    }
   ],
   "source": [
    "country_list = [\"IN\",\"SG\",\"ML\",\"USA\",\"UK\",\"CH\"]\n",
    "country_list[2] = \"FR\"\n",
    "print(\"Now Country at position 2 is:\",country_list[2])"
   ]
  },
  {
   "cell_type": "code",
   "execution_count": null,
   "id": "c348553c-4691-41a4-928e-63d5d3a5d315",
   "metadata": {},
   "outputs": [],
   "source": []
  }
 ],
 "metadata": {
  "kernelspec": {
   "display_name": "Python 3 (ipykernel)",
   "language": "python",
   "name": "python3"
  },
  "language_info": {
   "codemirror_mode": {
    "name": "ipython",
    "version": 3
   },
   "file_extension": ".py",
   "mimetype": "text/x-python",
   "name": "python",
   "nbconvert_exporter": "python",
   "pygments_lexer": "ipython3",
   "version": "3.11.7"
  }
 },
 "nbformat": 4,
 "nbformat_minor": 5
}
