{
 "cells": [
  {
   "cell_type": "code",
   "execution_count": 7,
   "id": "c64a18e3-35d4-4f6e-8aee-6c117fc751f7",
   "metadata": {},
   "outputs": [
    {
     "data": {
      "text/plain": [
       "['A', 'B', 'C', 'D', 'E', 'F', 'G', 'H', 'I', 'J', 'K', 'L']"
      ]
     },
     "execution_count": 7,
     "metadata": {},
     "output_type": "execute_result"
    }
   ],
   "source": [
    "letters_list1 = ['A','B','C','D','E',\"F\",\"G\",\"H\"]\n",
    "letters_list2 = ['I','J']\n",
    "complete_letters = letters_list1 + letters_list2\n",
    "complete_letters\n",
    "complete_letters +=['K','L']\n",
    "complete_letters"
   ]
  },
  {
   "cell_type": "code",
   "execution_count": 22,
   "id": "209f2518-77cb-47d6-9eb5-c7527f509b0e",
   "metadata": {},
   "outputs": [
    {
     "name": "stdout",
     "output_type": "stream",
     "text": [
      "[0, 0, 1, 1, 2, 3, 4, 5, 6, 7, 8, 9, 10, 50]\n"
     ]
    }
   ],
   "source": [
    "numbers_list = [50,0,1,8,9,4,7,2,3,0,1,5,10,6]\n",
    "# my_numbers = [10, 8, 3, 22, 33, 7, 11, 100, 54]\n",
    "numbers_list.sort()\n",
    "print(numbers_list)"
   ]
  },
  {
   "cell_type": "code",
   "execution_count": 29,
   "id": "2541ae7a-eb75-4040-af40-c21cc2105a63",
   "metadata": {},
   "outputs": [
    {
     "name": "stdout",
     "output_type": "stream",
     "text": [
      "[6, 10, 5, 1, 0, 3, 2, 7, 4, 9, 8, 1, 0, 50]\n"
     ]
    }
   ],
   "source": [
    "numbers_list = [50,0,1,8,9,4,7,2,3,0,1,5,10,6]\n",
    "numbers_list.reverse()\n",
    "numbers_list.count(0)\n",
    "print(numbers_list)"
   ]
  },
  {
   "cell_type": "code",
   "execution_count": 25,
   "id": "1ebb1889-1f83-4fcc-b1e0-6749437c8396",
   "metadata": {},
   "outputs": [
    {
     "name": "stdout",
     "output_type": "stream",
     "text": [
      "[10, 8, 3, 22, 33, 7, 11, 100]\n"
     ]
    }
   ],
   "source": [
    "my_numbers = [10, 8, 3, 22, 33, 7, 11, 100, 54]\n",
    "my_numbers.pop()\n",
    "print(my_numbers)"
   ]
  },
  {
   "cell_type": "code",
   "execution_count": 28,
   "id": "b88934e0-5253-426f-ae23-9a72ae87cd59",
   "metadata": {},
   "outputs": [
    {
     "name": "stdout",
     "output_type": "stream",
     "text": [
      "[10, 8, 3, 22, 33, 7, 11, 100, 54]\n"
     ]
    },
    {
     "data": {
      "text/plain": [
       "1"
      ]
     },
     "execution_count": 28,
     "metadata": {},
     "output_type": "execute_result"
    }
   ],
   "source": [
    "my_numbers = [10, 8, 3, 22, 33, 7, 11, 100]\n",
    "my_numbers.append(54)\n",
    "print(my_numbers)\n",
    "my_numbers.count(7)"
   ]
  },
  {
   "cell_type": "code",
   "execution_count": 7,
   "id": "e832024e-d644-41d7-81dd-dea844f21e6d",
   "metadata": {},
   "outputs": [
    {
     "data": {
      "text/plain": [
       "{0, 1, 2, 3, 4, 5, 6, 7, 8, 9, 10, 50}"
      ]
     },
     "execution_count": 7,
     "metadata": {},
     "output_type": "execute_result"
    }
   ],
   "source": [
    "numbers_list = [50,0,1,8,9,4,7,2,3,0,1,5,10,6]\n",
    "# set({numbers_list})\n",
    "set(numbers_list)"
   ]
  },
  {
   "cell_type": "code",
   "execution_count": 10,
   "id": "e82bb088-e4eb-4a4a-b70e-8ab85c0f1a5d",
   "metadata": {},
   "outputs": [
    {
     "data": {
      "text/plain": [
       "[]"
      ]
     },
     "execution_count": 10,
     "metadata": {},
     "output_type": "execute_result"
    }
   ],
   "source": [
    "numbers_list = [50,0,1,8,9,4,7,2,3,0,1,5,10,6]\n",
    "numbers_list.clear()#To clear the whole list\n",
    "numbers_list"
   ]
  },
  {
   "cell_type": "code",
   "execution_count": 22,
   "id": "31d4bc3b-d488-46d5-85e6-8fb55b48c4be",
   "metadata": {},
   "outputs": [
    {
     "name": "stdout",
     "output_type": "stream",
     "text": [
      "['A', 'B', 'C', 'D', 'E', 'F', 'G', 'H']\n",
      "['A', 'B', 'C', 'D', 'E', 'F', 'G', 'H']\n",
      "shallow_copy ['A', 'B', 'C', 'D', 'E', 'F', 'G', 'H']\n",
      "shallow_copy_now []\n",
      "new_letters_list_now []\n"
     ]
    }
   ],
   "source": [
    "import copy\n",
    "letters_list1 = ['A','B','C','D','E',\"F\",\"G\",\"H\"]\n",
    "new_letters_list = copy.deepcopy(letters_list1)\n",
    "print(new_letters_list)\n",
    "print(letters_list1)\n",
    "del letters_list1\n",
    "# letters_list1\n",
    "new_letters_list\n",
    "shallow_copy_letters = new_letters_list\n",
    "print(\"shallow_copy\",shallow_copy_letters)\n",
    "shallow_copy_letters.clear()\n",
    "print(\"shallow_copy_now\",shallow_copy_letters)\n",
    "print(\"new_letters_list_now\",new_letters_list)"
   ]
  },
  {
   "cell_type": "code",
   "execution_count": null,
   "id": "1e159247-c2fb-443d-9781-a84fca11ea0b",
   "metadata": {},
   "outputs": [],
   "source": []
  }
 ],
 "metadata": {
  "kernelspec": {
   "display_name": "Python 3 (ipykernel)",
   "language": "python",
   "name": "python3"
  },
  "language_info": {
   "codemirror_mode": {
    "name": "ipython",
    "version": 3
   },
   "file_extension": ".py",
   "mimetype": "text/x-python",
   "name": "python",
   "nbconvert_exporter": "python",
   "pygments_lexer": "ipython3",
   "version": "3.11.7"
  }
 },
 "nbformat": 4,
 "nbformat_minor": 5
}
