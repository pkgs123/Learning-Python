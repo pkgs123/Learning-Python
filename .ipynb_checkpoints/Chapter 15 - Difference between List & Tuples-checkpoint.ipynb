{
 "cells": [
  {
   "cell_type": "code",
   "execution_count": 1,
   "id": "4e37eacb-9756-41d9-876c-bca199a07590",
   "metadata": {},
   "outputs": [],
   "source": [
    "#Tuples are immutable\n",
    "#Lists are mutable"
   ]
  },
  {
   "cell_type": "code",
   "execution_count": 2,
   "id": "40737d5a-c12a-4954-988a-cf7f3898f40a",
   "metadata": {},
   "outputs": [
    {
     "data": {
      "text/plain": [
       "(0, 1, 2, 3)"
      ]
     },
     "execution_count": 2,
     "metadata": {},
     "output_type": "execute_result"
    }
   ],
   "source": [
    "immutable_tuple1 = (0,1,2,3)\n",
    "immutable_tuple1"
   ]
  },
  {
   "cell_type": "code",
   "execution_count": 3,
   "id": "644e80f2-7c52-4ae1-a43e-bd8f6f683da6",
   "metadata": {},
   "outputs": [
    {
     "ename": "TypeError",
     "evalue": "'tuple' object does not support item assignment",
     "output_type": "error",
     "traceback": [
      "\u001b[1;31m---------------------------------------------------------------------------\u001b[0m",
      "\u001b[1;31mTypeError\u001b[0m                                 Traceback (most recent call last)",
      "Cell \u001b[1;32mIn[3], line 1\u001b[0m\n\u001b[1;32m----> 1\u001b[0m immutable_tuple1[\u001b[38;5;241m0\u001b[39m] \u001b[38;5;241m=\u001b[39m \u001b[38;5;241m4\u001b[39m\n",
      "\u001b[1;31mTypeError\u001b[0m: 'tuple' object does not support item assignment"
     ]
    }
   ],
   "source": [
    "immutable_tuple1[0] = 4"
   ]
  },
  {
   "cell_type": "code",
   "execution_count": 4,
   "id": "933e2b22-775b-4871-b4a1-4f5c2e519c0a",
   "metadata": {},
   "outputs": [
    {
     "data": {
      "text/plain": [
       "(4, 2, 3, [6, 5])"
      ]
     },
     "execution_count": 4,
     "metadata": {},
     "output_type": "execute_result"
    }
   ],
   "source": [
    "immutable_tuple2 = (4,2,3,[6,5])\n",
    "immutable_tuple2"
   ]
  },
  {
   "cell_type": "code",
   "execution_count": 5,
   "id": "a1c378c9-ad33-48d4-9a39-a67f0d1038ba",
   "metadata": {},
   "outputs": [
    {
     "data": {
      "text/plain": [
       "4"
      ]
     },
     "execution_count": 5,
     "metadata": {},
     "output_type": "execute_result"
    }
   ],
   "source": [
    "immutable_tuple2[0]"
   ]
  },
  {
   "cell_type": "code",
   "execution_count": 6,
   "id": "ee6612c2-db82-432a-bd79-31b22ba71dfc",
   "metadata": {},
   "outputs": [
    {
     "ename": "TypeError",
     "evalue": "'tuple' object does not support item assignment",
     "output_type": "error",
     "traceback": [
      "\u001b[1;31m---------------------------------------------------------------------------\u001b[0m",
      "\u001b[1;31mTypeError\u001b[0m                                 Traceback (most recent call last)",
      "Cell \u001b[1;32mIn[6], line 1\u001b[0m\n\u001b[1;32m----> 1\u001b[0m immutable_tuple2[\u001b[38;5;241m0\u001b[39m]\u001b[38;5;241m=\u001b[39m\u001b[38;5;241m7\u001b[39m\n",
      "\u001b[1;31mTypeError\u001b[0m: 'tuple' object does not support item assignment"
     ]
    }
   ],
   "source": [
    "immutable_tuple2[0]=7"
   ]
  },
  {
   "cell_type": "code",
   "execution_count": 7,
   "id": "30c7e57b-f77b-4b3a-a1e8-800eef3c1350",
   "metadata": {},
   "outputs": [
    {
     "data": {
      "text/plain": [
       "(4, 2, 3, [6, 5])"
      ]
     },
     "execution_count": 7,
     "metadata": {},
     "output_type": "execute_result"
    }
   ],
   "source": [
    "immutable_tuple2"
   ]
  },
  {
   "cell_type": "code",
   "execution_count": 10,
   "id": "7a03c009-1023-4ca0-96ba-02d4e0d77793",
   "metadata": {},
   "outputs": [
    {
     "data": {
      "text/plain": [
       "[6, 5]"
      ]
     },
     "execution_count": 10,
     "metadata": {},
     "output_type": "execute_result"
    }
   ],
   "source": [
    "immutable_tuple2[3]"
   ]
  },
  {
   "cell_type": "code",
   "execution_count": 11,
   "id": "70331e66-e567-4a50-9ba3-c91fd3e9ad39",
   "metadata": {},
   "outputs": [],
   "source": [
    "immutable_tuple2[3][1] = 7"
   ]
  },
  {
   "cell_type": "code",
   "execution_count": 12,
   "id": "2148e86e-9108-4b38-868a-5431aa3eb485",
   "metadata": {},
   "outputs": [
    {
     "data": {
      "text/plain": [
       "(4, 2, 3, [6, 7])"
      ]
     },
     "execution_count": 12,
     "metadata": {},
     "output_type": "execute_result"
    }
   ],
   "source": [
    "immutable_tuple2"
   ]
  },
  {
   "cell_type": "code",
   "execution_count": 19,
   "id": "1889b8b3-8cdf-4602-be5c-ed030fcd26e9",
   "metadata": {},
   "outputs": [],
   "source": [
    "my_tuple = (\"P\",\"R\",\"A\",\"S\",\"H\",\"I\")"
   ]
  },
  {
   "cell_type": "code",
   "execution_count": 20,
   "id": "deb86f66-dab5-42a6-8ded-72d256010737",
   "metadata": {},
   "outputs": [
    {
     "ename": "TypeError",
     "evalue": "'tuple' object doesn't support item deletion",
     "output_type": "error",
     "traceback": [
      "\u001b[1;31m---------------------------------------------------------------------------\u001b[0m",
      "\u001b[1;31mTypeError\u001b[0m                                 Traceback (most recent call last)",
      "Cell \u001b[1;32mIn[20], line 1\u001b[0m\n\u001b[1;32m----> 1\u001b[0m \u001b[38;5;28;01mdel\u001b[39;00m my_tuple[\u001b[38;5;241m2\u001b[39m]\n",
      "\u001b[1;31mTypeError\u001b[0m: 'tuple' object doesn't support item deletion"
     ]
    }
   ],
   "source": [
    "del my_tuple[2] # we can't delete specific ele from tuple"
   ]
  },
  {
   "cell_type": "code",
   "execution_count": 21,
   "id": "b2607f14-0c2f-4dca-8eb9-d57e71ddc552",
   "metadata": {},
   "outputs": [],
   "source": [
    "del my_tuple # we can delete entire tuple"
   ]
  },
  {
   "cell_type": "code",
   "execution_count": 22,
   "id": "385b82e4-2f14-4c8c-b978-f71cbcdff33b",
   "metadata": {},
   "outputs": [
    {
     "ename": "NameError",
     "evalue": "name 'my_tuple' is not defined",
     "output_type": "error",
     "traceback": [
      "\u001b[1;31m---------------------------------------------------------------------------\u001b[0m",
      "\u001b[1;31mNameError\u001b[0m                                 Traceback (most recent call last)",
      "Cell \u001b[1;32mIn[22], line 1\u001b[0m\n\u001b[1;32m----> 1\u001b[0m my_tuple\n",
      "\u001b[1;31mNameError\u001b[0m: name 'my_tuple' is not defined"
     ]
    }
   ],
   "source": [
    "my_tuple"
   ]
  },
  {
   "cell_type": "code",
   "execution_count": null,
   "id": "5753d431-152d-4cf5-bea6-0068f2e5c842",
   "metadata": {},
   "outputs": [],
   "source": []
  }
 ],
 "metadata": {
  "kernelspec": {
   "display_name": "Python 3 (ipykernel)",
   "language": "python",
   "name": "python3"
  },
  "language_info": {
   "codemirror_mode": {
    "name": "ipython",
    "version": 3
   },
   "file_extension": ".py",
   "mimetype": "text/x-python",
   "name": "python",
   "nbconvert_exporter": "python",
   "pygments_lexer": "ipython3",
   "version": "3.11.7"
  }
 },
 "nbformat": 4,
 "nbformat_minor": 5
}
