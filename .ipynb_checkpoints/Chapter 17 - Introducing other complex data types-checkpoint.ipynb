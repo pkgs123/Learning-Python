{
 "cells": [
  {
   "cell_type": "code",
   "execution_count": 10,
   "id": "f38cfde9-ec2e-471c-bdce-05c4ef386eef",
   "metadata": {},
   "outputs": [
    {
     "name": "stdout",
     "output_type": "stream",
     "text": [
      "<class 'list'>\n"
     ]
    },
    {
     "data": {
      "text/plain": [
       "bool"
      ]
     },
     "execution_count": 10,
     "metadata": {},
     "output_type": "execute_result"
    }
   ],
   "source": [
    "num_list = [1,2.5,\"num\",True]#List\n",
    "num_list\n",
    "print(type(num_list))\n",
    "type(num_list[1])\n",
    "type(num_list[len(num_list)-1])"
   ]
  },
  {
   "cell_type": "code",
   "execution_count": 12,
   "id": "6dcbc640-987c-46c2-9682-4215ec89c961",
   "metadata": {},
   "outputs": [
    {
     "data": {
      "text/plain": [
       "str"
      ]
     },
     "execution_count": 12,
     "metadata": {},
     "output_type": "execute_result"
    }
   ],
   "source": [
    "num_t = (1,2.5,\"num\",True)#Tuple\n",
    "num_t\n",
    "type(num_t[2])"
   ]
  },
  {
   "cell_type": "code",
   "execution_count": 13,
   "id": "bfa46fc1-e66e-4478-8f3d-b5cfc2b1452e",
   "metadata": {},
   "outputs": [
    {
     "data": {
      "text/plain": [
       "{'a': 25, 'b': 35, 'c': 20}"
      ]
     },
     "execution_count": 13,
     "metadata": {},
     "output_type": "execute_result"
    }
   ],
   "source": [
    "my_dict = {\"a\":25,\"b\":35,\"c\":20}#Dictionary\n",
    "my_dict"
   ]
  },
  {
   "cell_type": "code",
   "execution_count": null,
   "id": "a05b7b58-e2ad-40aa-8450-a10fe5698fcc",
   "metadata": {},
   "outputs": [],
   "source": []
  }
 ],
 "metadata": {
  "kernelspec": {
   "display_name": "Python 3 (ipykernel)",
   "language": "python",
   "name": "python3"
  },
  "language_info": {
   "codemirror_mode": {
    "name": "ipython",
    "version": 3
   },
   "file_extension": ".py",
   "mimetype": "text/x-python",
   "name": "python",
   "nbconvert_exporter": "python",
   "pygments_lexer": "ipython3",
   "version": "3.11.7"
  }
 },
 "nbformat": 4,
 "nbformat_minor": 5
}
