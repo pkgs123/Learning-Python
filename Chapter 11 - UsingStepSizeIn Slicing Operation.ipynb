{
 "cells": [
  {
   "cell_type": "code",
   "execution_count": 16,
   "id": "4d589a08-aa84-4a3d-b385-4e864a0abe04",
   "metadata": {},
   "outputs": [
    {
     "data": {
      "text/plain": [
       "['A', 'B', 'C', 'D', 'E', 'F', 'G', 'H']"
      ]
     },
     "execution_count": 16,
     "metadata": {},
     "output_type": "execute_result"
    }
   ],
   "source": [
    "step_size_chars = [\"A\",\"B\",\"C\",\"D\",\"E\",\"F\",\"G\",\"H\"]\n",
    "# step_size_chars[0:5:] # Default step size is 1 i.e 1 +x =1, x =1-1 , x=0(step size = 0 for 1)\n",
    "# step_size_chars[: : 2]\n",
    "# step_size_chars[0:5:2]\n",
    "# step_size_chars[2:5:2]\n",
    "# step_size_chars[0:5:3]\n",
    "# step_size_chars[1:4:2]\n",
    "# step_size_chars[: : -1]\n",
    "# step_size_chars[2:0:-1]\n",
    "# step_size_chars[4:1:-1]\n",
    "# step_size_chars[-4:0:-1]\n",
    "# step_size_chars[: : -2]\n",
    "step_size_chars[8:-1] = [\"I\"]\n",
    "step_size_chars\n",
    "step_size_chars.pop(-1)\n",
    "step_size_chars"
   ]
  },
  {
   "cell_type": "code",
   "execution_count": null,
   "id": "1ffaa5f7-4bc0-4e67-899f-8a37e81c22ec",
   "metadata": {},
   "outputs": [],
   "source": []
  }
 ],
 "metadata": {
  "kernelspec": {
   "display_name": "Python 3 (ipykernel)",
   "language": "python",
   "name": "python3"
  },
  "language_info": {
   "codemirror_mode": {
    "name": "ipython",
    "version": 3
   },
   "file_extension": ".py",
   "mimetype": "text/x-python",
   "name": "python",
   "nbconvert_exporter": "python",
   "pygments_lexer": "ipython3",
   "version": "3.11.7"
  }
 },
 "nbformat": 4,
 "nbformat_minor": 5
}
