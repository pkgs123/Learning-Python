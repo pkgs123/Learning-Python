{
 "cells": [
  {
   "cell_type": "code",
   "execution_count": 1,
   "id": "19c7c7df-21fb-4a29-ba22-689b91371e39",
   "metadata": {},
   "outputs": [
    {
     "data": {
      "text/plain": [
       "3"
      ]
     },
     "execution_count": 1,
     "metadata": {},
     "output_type": "execute_result"
    }
   ],
   "source": [
    "car_matrix = [[\"Honda\",123],[\"Audi\",456],[\"Mercediz\",1100]]\n",
    "len(car_matrix)"
   ]
  },
  {
   "cell_type": "code",
   "execution_count": 2,
   "id": "54cd85c6-12cf-464f-a71a-4b797aea11c6",
   "metadata": {},
   "outputs": [
    {
     "data": {
      "text/plain": [
       "2"
      ]
     },
     "execution_count": 2,
     "metadata": {},
     "output_type": "execute_result"
    }
   ],
   "source": [
    "len(car_matrix[1])"
   ]
  },
  {
   "cell_type": "code",
   "execution_count": 3,
   "id": "b6ae28ee-de24-4354-bfd0-dea8a784c6ae",
   "metadata": {},
   "outputs": [
    {
     "data": {
      "text/plain": [
       "'Audi'"
      ]
     },
     "execution_count": 3,
     "metadata": {},
     "output_type": "execute_result"
    }
   ],
   "source": [
    "car_matrix[1][0]"
   ]
  },
  {
   "cell_type": "code",
   "execution_count": 4,
   "id": "ce3c0600-ecb0-4df8-8415-57bcd86de6b1",
   "metadata": {},
   "outputs": [
    {
     "data": {
      "text/plain": [
       "456"
      ]
     },
     "execution_count": 4,
     "metadata": {},
     "output_type": "execute_result"
    }
   ],
   "source": [
    "car_matrix[1][1]"
   ]
  },
  {
   "cell_type": "code",
   "execution_count": 5,
   "id": "4456c974-c57b-44c9-bb4e-845189a2dee9",
   "metadata": {},
   "outputs": [
    {
     "data": {
      "text/plain": [
       "['Mercediz', 1100]"
      ]
     },
     "execution_count": 5,
     "metadata": {},
     "output_type": "execute_result"
    }
   ],
   "source": [
    "# Slicing\n",
    "car_matrix[2][0:2]"
   ]
  },
  {
   "cell_type": "code",
   "execution_count": 6,
   "id": "c483e743-c052-42f7-a055-cf268386fda1",
   "metadata": {},
   "outputs": [
    {
     "data": {
      "text/plain": [
       "['Audi', 456]"
      ]
     },
     "execution_count": 6,
     "metadata": {},
     "output_type": "execute_result"
    }
   ],
   "source": [
    "car_matrix[1][0:2]"
   ]
  },
  {
   "cell_type": "code",
   "execution_count": 7,
   "id": "201211d0-5c2c-4d31-aed6-18ae90bf63b7",
   "metadata": {},
   "outputs": [
    {
     "data": {
      "text/plain": [
       "['Leo', 18, 'Aero', 25, 'Enna', 34, 'Jordan', 30]"
      ]
     },
     "execution_count": 7,
     "metadata": {},
     "output_type": "execute_result"
    }
   ],
   "source": [
    "# Performing List Conversion\n",
    "my_list = [\"Leo\",18,\"Aero\",25,\"Enna\",34,\"Jordan\",30]\n",
    "my_list"
   ]
  },
  {
   "cell_type": "code",
   "execution_count": 8,
   "id": "ec0b1e7c-2ce0-4fef-9c1f-158358dfee01",
   "metadata": {},
   "outputs": [
    {
     "data": {
      "text/plain": [
       "('Leo', 18, 'Aero', 25, 'Enna', 34, 'Jordan', 30)"
      ]
     },
     "execution_count": 8,
     "metadata": {},
     "output_type": "execute_result"
    }
   ],
   "source": [
    "tuple(my_list)"
   ]
  },
  {
   "cell_type": "code",
   "execution_count": 9,
   "id": "8952ca3a-a630-4ad4-a686-df99a37e6f97",
   "metadata": {},
   "outputs": [
    {
     "data": {
      "text/plain": [
       "(['Leo', 18], ['Aero', 25], ['Enna', 34], ['Jordan', 30])"
      ]
     },
     "execution_count": 9,
     "metadata": {},
     "output_type": "execute_result"
    }
   ],
   "source": [
    "my_list = [[\"Leo\",18],[\"Aero\",25],[\"Enna\",34],[\"Jordan\",30]]\n",
    "tuple(my_list)"
   ]
  },
  {
   "cell_type": "code",
   "execution_count": 10,
   "id": "b7b21ece-4e7e-4c79-889d-27855b951988",
   "metadata": {},
   "outputs": [
    {
     "data": {
      "text/plain": [
       "[[1, 'c', 2, 'D'], [3, 'E', 4, 'F']]"
      ]
     },
     "execution_count": 10,
     "metadata": {},
     "output_type": "execute_result"
    }
   ],
   "source": [
    "stud_list = [[1,\"c\",2,\"D\"],[3,\"E\",4,\"F\"]]\n",
    "stud_list"
   ]
  },
  {
   "cell_type": "code",
   "execution_count": 11,
   "id": "03bc42d4-15b2-4171-954e-0038470e1182",
   "metadata": {},
   "outputs": [
    {
     "ename": "ValueError",
     "evalue": "dictionary update sequence element #0 has length 4; 2 is required",
     "output_type": "error",
     "traceback": [
      "\u001b[1;31m---------------------------------------------------------------------------\u001b[0m",
      "\u001b[1;31mValueError\u001b[0m                                Traceback (most recent call last)",
      "Cell \u001b[1;32mIn[11], line 1\u001b[0m\n\u001b[1;32m----> 1\u001b[0m \u001b[38;5;28mdict\u001b[39m(stud_list)\n",
      "\u001b[1;31mValueError\u001b[0m: dictionary update sequence element #0 has length 4; 2 is required"
     ]
    }
   ],
   "source": [
    "dict(stud_list)"
   ]
  },
  {
   "cell_type": "code",
   "execution_count": 12,
   "id": "2de49731-1689-4854-9e18-98dd99f82550",
   "metadata": {},
   "outputs": [
    {
     "data": {
      "text/plain": [
       "{1: 'c', 3: 'E'}"
      ]
     },
     "execution_count": 12,
     "metadata": {},
     "output_type": "execute_result"
    }
   ],
   "source": [
    "stud_list = [[1,\"c\"],[3,\"E\"]]\n",
    "dict(stud_list)"
   ]
  },
  {
   "cell_type": "code",
   "execution_count": 13,
   "id": "21831c7e-d64b-4e12-90df-9efab31870ae",
   "metadata": {},
   "outputs": [
    {
     "ename": "ValueError",
     "evalue": "dictionary update sequence element #2 has length 3; 2 is required",
     "output_type": "error",
     "traceback": [
      "\u001b[1;31m---------------------------------------------------------------------------\u001b[0m",
      "\u001b[1;31mValueError\u001b[0m                                Traceback (most recent call last)",
      "Cell \u001b[1;32mIn[13], line 2\u001b[0m\n\u001b[0;32m      1\u001b[0m stud_list \u001b[38;5;241m=\u001b[39m [[\u001b[38;5;241m1\u001b[39m,\u001b[38;5;124m\"\u001b[39m\u001b[38;5;124mc\u001b[39m\u001b[38;5;124m\"\u001b[39m],[\u001b[38;5;241m3\u001b[39m,\u001b[38;5;124m\"\u001b[39m\u001b[38;5;124mE\u001b[39m\u001b[38;5;124m\"\u001b[39m],[\u001b[38;5;241m4\u001b[39m,\u001b[38;5;124m\"\u001b[39m\u001b[38;5;124mF\u001b[39m\u001b[38;5;124m\"\u001b[39m,\u001b[38;5;124m\"\u001b[39m\u001b[38;5;124mH\u001b[39m\u001b[38;5;124m\"\u001b[39m]]\n\u001b[1;32m----> 2\u001b[0m \u001b[38;5;28mdict\u001b[39m(stud_list)\n",
      "\u001b[1;31mValueError\u001b[0m: dictionary update sequence element #2 has length 3; 2 is required"
     ]
    }
   ],
   "source": [
    "stud_list = [[1,\"c\"],[3,\"E\"],[4,\"F\",\"H\"]]\n",
    "dict(stud_list)"
   ]
  },
  {
   "cell_type": "code",
   "execution_count": 14,
   "id": "f9c89490-47ab-461d-b447-4083529e8f2e",
   "metadata": {},
   "outputs": [
    {
     "data": {
      "text/plain": [
       "{1: 'c', 3: 'E', 4: ['F', 'H']}"
      ]
     },
     "execution_count": 14,
     "metadata": {},
     "output_type": "execute_result"
    }
   ],
   "source": [
    "stud_list = [[1,\"c\"],[3,\"E\"],[4,[\"F\",\"H\"]]]\n",
    "dict(stud_list)"
   ]
  },
  {
   "cell_type": "code",
   "execution_count": 15,
   "id": "218cc7c4-ffbe-4b25-8e1c-9e157b5eb15b",
   "metadata": {},
   "outputs": [
    {
     "data": {
      "text/plain": [
       "['Mercediz', 1100]"
      ]
     },
     "execution_count": 15,
     "metadata": {},
     "output_type": "execute_result"
    }
   ],
   "source": [
    "car_matrix = [[\"Honda\",123],[\"Audi\",456],[\"Mercediz\",1100]]\n",
    "car_matrix.pop()"
   ]
  },
  {
   "cell_type": "code",
   "execution_count": 16,
   "id": "5eb77817-6280-4643-8d3e-ce3f9df9427a",
   "metadata": {},
   "outputs": [],
   "source": [
    "car_matrix.clear()"
   ]
  },
  {
   "cell_type": "code",
   "execution_count": 17,
   "id": "886f3c94-1f82-4de8-aae2-d1ece8bb31bd",
   "metadata": {},
   "outputs": [
    {
     "data": {
      "text/plain": [
       "[]"
      ]
     },
     "execution_count": 17,
     "metadata": {},
     "output_type": "execute_result"
    }
   ],
   "source": [
    "car_matrix"
   ]
  },
  {
   "cell_type": "code",
   "execution_count": 18,
   "id": "e35b2c6c-8d56-4b0f-b9f5-8079d3ed6325",
   "metadata": {},
   "outputs": [
    {
     "data": {
      "text/plain": [
       "['Honda', 'Audi', 'Mercediz']"
      ]
     },
     "execution_count": 18,
     "metadata": {},
     "output_type": "execute_result"
    }
   ],
   "source": [
    "car_matrix = [[\"Honda\",123],[\"Audi\",456],[\"Mercediz\",1100]]\n",
    "car_name = list(dict(car_matrix))\n",
    "car_name"
   ]
  },
  {
   "cell_type": "code",
   "execution_count": 19,
   "id": "db371283-210a-4926-9fe7-e5ff62e52ac5",
   "metadata": {},
   "outputs": [
    {
     "data": {
      "text/plain": [
       "[123, 456, 1100]"
      ]
     },
     "execution_count": 19,
     "metadata": {},
     "output_type": "execute_result"
    }
   ],
   "source": [
    "list(dict(car_matrix).values())"
   ]
  },
  {
   "cell_type": "code",
   "execution_count": null,
   "id": "a6686e20-dbaf-4e89-8fbf-c27a659a21bb",
   "metadata": {},
   "outputs": [],
   "source": []
  }
 ],
 "metadata": {
  "kernelspec": {
   "display_name": "Python 3 (ipykernel)",
   "language": "python",
   "name": "python3"
  },
  "language_info": {
   "codemirror_mode": {
    "name": "ipython",
    "version": 3
   },
   "file_extension": ".py",
   "mimetype": "text/x-python",
   "name": "python",
   "nbconvert_exporter": "python",
   "pygments_lexer": "ipython3",
   "version": "3.11.7"
  }
 },
 "nbformat": 4,
 "nbformat_minor": 5
}
