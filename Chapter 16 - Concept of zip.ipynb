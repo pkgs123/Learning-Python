{
 "cells": [
  {
   "cell_type": "code",
   "execution_count": 5,
   "id": "eaae6cfe-4149-40bb-9ab9-c5aabcdb0f11",
   "metadata": {},
   "outputs": [
    {
     "name": "stdout",
     "output_type": "stream",
     "text": [
      "<zip object at 0x000002BEA67B3780>\n",
      "((1, 'a'), (2, 'b'), (3, 'c'), (4, 'd'), (5, 'e'))\n"
     ]
    }
   ],
   "source": [
    "tuple_a = (1,2,3,4,5)\n",
    "tuple_b = (\"a\",\"b\",\"c\",\"d\",\"e\")\n",
    "zipped = zip(tuple_a, tuple_b)\n",
    "print(zipped)\n",
    "result = tuple(zipped)\n",
    "print(result)"
   ]
  },
  {
   "cell_type": "code",
   "execution_count": 7,
   "id": "cbaa8de5-f4c5-4c3d-96a7-117a39e71d51",
   "metadata": {},
   "outputs": [
    {
     "name": "stdout",
     "output_type": "stream",
     "text": [
      "[(1, 'a'), (2, 'b'), (3, 'c'), (4, 'd'), (5, 'e')]\n"
     ]
    }
   ],
   "source": [
    "tuple_a = (1,2,3,4,5)\n",
    "tuple_b = (\"a\",\"b\",\"c\",\"d\",\"e\")\n",
    "zipped = zip(tuple_a, tuple_b)\n",
    "result = list(zipped)\n",
    "print(result)"
   ]
  },
  {
   "cell_type": "code",
   "execution_count": 10,
   "id": "39e3429d-b910-4669-9880-dfc657c38173",
   "metadata": {},
   "outputs": [
    {
     "name": "stdout",
     "output_type": "stream",
     "text": [
      "tuple_a (1, 2, 3, 4, 5) tuple_b ('a', 'b', 'c', 'd', 'e')\n"
     ]
    }
   ],
   "source": [
    "tuple_a,tuple_b = zip(*result)#To retrieve the original tuple variable values\n",
    "print(\"tuple_a\",tuple_a,\"tuple_b\",tuple_b)"
   ]
  },
  {
   "cell_type": "code",
   "execution_count": 12,
   "id": "c959413d-1365-406c-89fe-d5a2f59d0ccf",
   "metadata": {},
   "outputs": [
    {
     "name": "stdout",
     "output_type": "stream",
     "text": [
      "{'PK': 'MGR', 'SK': 'SUVERVISOR', 'GS': 'ENGG'}\n"
     ]
    }
   ],
   "source": [
    "val_a = (\"PK\",\"SK\",\"GS\")\n",
    "val_b = (\"MGR\",\"SUVERVISOR\",\"ENGG\")\n",
    "x = zip(val_a,val_b)\n",
    "print(dict(x))#Use of dictionary"
   ]
  },
  {
   "cell_type": "code",
   "execution_count": null,
   "id": "395e6a7a-da04-4dc0-b889-1aa8970a3c3e",
   "metadata": {},
   "outputs": [],
   "source": []
  }
 ],
 "metadata": {
  "kernelspec": {
   "display_name": "Python 3 (ipykernel)",
   "language": "python",
   "name": "python3"
  },
  "language_info": {
   "codemirror_mode": {
    "name": "ipython",
    "version": 3
   },
   "file_extension": ".py",
   "mimetype": "text/x-python",
   "name": "python",
   "nbconvert_exporter": "python",
   "pygments_lexer": "ipython3",
   "version": "3.11.7"
  }
 },
 "nbformat": 4,
 "nbformat_minor": 5
}
