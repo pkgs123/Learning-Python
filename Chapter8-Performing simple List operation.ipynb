{
 "cells": [
  {
   "cell_type": "code",
   "execution_count": 4,
   "id": "dcdf0683-6605-4e54-ae41-f74085d6b6db",
   "metadata": {},
   "outputs": [
    {
     "ename": "IndexError",
     "evalue": "list assignment index out of range",
     "output_type": "error",
     "traceback": [
      "\u001b[1;31m---------------------------------------------------------------------------\u001b[0m",
      "\u001b[1;31mIndexError\u001b[0m                                Traceback (most recent call last)",
      "Cell \u001b[1;32mIn[4], line 2\u001b[0m\n\u001b[0;32m      1\u001b[0m letters_list \u001b[38;5;241m=\u001b[39m [\u001b[38;5;124m'\u001b[39m\u001b[38;5;124mA\u001b[39m\u001b[38;5;124m'\u001b[39m,\u001b[38;5;124m'\u001b[39m\u001b[38;5;124mB\u001b[39m\u001b[38;5;124m'\u001b[39m,\u001b[38;5;124m'\u001b[39m\u001b[38;5;124mC\u001b[39m\u001b[38;5;124m'\u001b[39m,\u001b[38;5;124m'\u001b[39m\u001b[38;5;124mD\u001b[39m\u001b[38;5;124m'\u001b[39m]\n\u001b[1;32m----> 2\u001b[0m letters_list[\u001b[38;5;241m4\u001b[39m] \u001b[38;5;241m=\u001b[39m \u001b[38;5;124m'\u001b[39m\u001b[38;5;124mE\u001b[39m\u001b[38;5;124m'\u001b[39m\n",
      "\u001b[1;31mIndexError\u001b[0m: list assignment index out of range"
     ]
    }
   ],
   "source": [
    "letters_list = ['A','B','C','D']\n",
    "letters_list[4] = 'E'"
   ]
  },
  {
   "cell_type": "code",
   "execution_count": 9,
   "id": "de5995c5-58c3-482c-9c8d-16eb5debe036",
   "metadata": {},
   "outputs": [
    {
     "name": "stdout",
     "output_type": "stream",
     "text": [
      "['A', 'B', 'C', 'D', 'E']\n"
     ]
    }
   ],
   "source": [
    "letters_list = ['A','B','C','D'] #It adds at the end of list\n",
    "letters_list.append('E')\n",
    "print(letters_list)"
   ]
  },
  {
   "cell_type": "code",
   "execution_count": 13,
   "id": "015da0cc-bd3e-47af-af28-1a079abb66c1",
   "metadata": {},
   "outputs": [
    {
     "ename": "TypeError",
     "evalue": "list.append() takes exactly one argument (2 given)",
     "output_type": "error",
     "traceback": [
      "\u001b[1;31m---------------------------------------------------------------------------\u001b[0m",
      "\u001b[1;31mTypeError\u001b[0m                                 Traceback (most recent call last)",
      "Cell \u001b[1;32mIn[13], line 2\u001b[0m\n\u001b[0;32m      1\u001b[0m letters_list \u001b[38;5;241m=\u001b[39m [\u001b[38;5;124m'\u001b[39m\u001b[38;5;124mA\u001b[39m\u001b[38;5;124m'\u001b[39m,\u001b[38;5;124m'\u001b[39m\u001b[38;5;124mB\u001b[39m\u001b[38;5;124m'\u001b[39m,\u001b[38;5;124m'\u001b[39m\u001b[38;5;124mC\u001b[39m\u001b[38;5;124m'\u001b[39m,\u001b[38;5;124m'\u001b[39m\u001b[38;5;124mD\u001b[39m\u001b[38;5;124m'\u001b[39m]\n\u001b[1;32m----> 2\u001b[0m \u001b[38;5;28mprint\u001b[39m(letters_list\u001b[38;5;241m.\u001b[39mappend(\u001b[38;5;124m\"\u001b[39m\u001b[38;5;124mE\u001b[39m\u001b[38;5;124m\"\u001b[39m,\u001b[38;5;124m\"\u001b[39m\u001b[38;5;124mF\u001b[39m\u001b[38;5;124m\"\u001b[39m))\n",
      "\u001b[1;31mTypeError\u001b[0m: list.append() takes exactly one argument (2 given)"
     ]
    }
   ],
   "source": [
    "letters_list = ['A','B','C','D']\n",
    "print(letters_list.append(\"E\",\"F\"))#It takes only one argument"
   ]
  },
  {
   "cell_type": "code",
   "execution_count": 19,
   "id": "7943385d-782e-48e6-9417-1c556a0f8911",
   "metadata": {},
   "outputs": [
    {
     "name": "stdout",
     "output_type": "stream",
     "text": [
      "None\n",
      "['A', 'B', 'C', 'D', 'E', 'F']\n"
     ]
    }
   ],
   "source": [
    "letters_list = ['A','B','C','D','E']\n",
    "print(letters_list.insert(6,'F'))#Add ele at specific position and only one ele\n",
    "print(letters_list)"
   ]
  },
  {
   "cell_type": "code",
   "execution_count": 23,
   "id": "5c3b97c3-3986-4414-bf07-bbcd49cd53fa",
   "metadata": {},
   "outputs": [
    {
     "name": "stdout",
     "output_type": "stream",
     "text": [
      "None\n",
      "['A', 'B', 'C', 'D', 'E', 'F', 'G', 'H']\n"
     ]
    }
   ],
   "source": [
    "letters_list = ['A','B','C','D','E',\"F\"]\n",
    "print(letters_list.extend(['G','H']))#Adds more than one ele in a list\n",
    "print(letters_list)"
   ]
  },
  {
   "cell_type": "code",
   "execution_count": 26,
   "id": "a881906d-956f-4f34-8dda-e738517540c1",
   "metadata": {},
   "outputs": [
    {
     "name": "stdout",
     "output_type": "stream",
     "text": [
      "['A', 'B', 'C', 'D', 'E', 'F', 'G', 'H', 'I', 'J']\n"
     ]
    }
   ],
   "source": [
    "letters_list1 = ['A','B','C','D','E',\"F\",\"G\",\"H\"]\n",
    "letters_list2 = ['I','J']\n",
    "complete_letters = letters_list1 + letters_list2#Plus sign concatinates more than one list\n",
    "print(complete_letters)"
   ]
  },
  {
   "cell_type": "code",
   "execution_count": 29,
   "id": "b53e1ef9-2796-4a8d-9271-37343d586084",
   "metadata": {},
   "outputs": [
    {
     "data": {
      "text/plain": [
       "4"
      ]
     },
     "execution_count": 29,
     "metadata": {},
     "output_type": "execute_result"
    }
   ],
   "source": [
    "letters_list1 = ['A','B','C','D','E',\"F\",\"G\",\"H\"]\n",
    "letters_list2 = ['I','J']\n",
    "complete_letters = letters_list1 + letters_list2\n",
    "complete_letters.index('E')# It gives the specific position of list ele."
   ]
  },
  {
   "cell_type": "code",
   "execution_count": 32,
   "id": "8512f6b6-c4cd-4ca4-9e51-dd53a6bf0669",
   "metadata": {},
   "outputs": [
    {
     "name": "stdout",
     "output_type": "stream",
     "text": [
      "['A', 'B', 'C', 'D', 'F', 'G', 'H', 'I', 'J']\n"
     ]
    }
   ],
   "source": [
    "letters_list1 = ['A','B','C','D','E',\"F\",\"G\",\"H\"]\n",
    "letters_list2 = ['I','J']\n",
    "complete_letters = letters_list1 + letters_list2\n",
    "complete_letters.remove('E')#Remove specific ele from the list\n",
    "print(complete_letters)"
   ]
  },
  {
   "cell_type": "code",
   "execution_count": null,
   "id": "2e829dd6-81c1-4d0e-9dc5-3fea6a18f671",
   "metadata": {},
   "outputs": [],
   "source": []
  }
 ],
 "metadata": {
  "kernelspec": {
   "display_name": "Python 3 (ipykernel)",
   "language": "python",
   "name": "python3"
  },
  "language_info": {
   "codemirror_mode": {
    "name": "ipython",
    "version": 3
   },
   "file_extension": ".py",
   "mimetype": "text/x-python",
   "name": "python",
   "nbconvert_exporter": "python",
   "pygments_lexer": "ipython3",
   "version": "3.11.7"
  }
 },
 "nbformat": 4,
 "nbformat_minor": 5
}
