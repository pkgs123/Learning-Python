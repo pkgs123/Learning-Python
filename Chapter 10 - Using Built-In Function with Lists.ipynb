{
 "cells": [
  {
   "cell_type": "code",
   "execution_count": 9,
   "id": "2efe4ab3-d99d-43fa-a3f2-6e3eee8824c5",
   "metadata": {},
   "outputs": [
    {
     "name": "stdout",
     "output_type": "stream",
     "text": [
      "list [1, 2, 3, 4, 5]\n",
      "1\n",
      "5\n",
      "5\n"
     ]
    }
   ],
   "source": [
    "list_num=[1,2,3,4,5]\n",
    "print(\"list\",list_num)\n",
    "print(min(list_num))#Minimum\n",
    "print(max(list_num))#Maximum\n",
    "print(len(list_num))#length of the list\n",
    "list_num.sort()#sorting the list"
   ]
  },
  {
   "cell_type": "code",
   "execution_count": 19,
   "id": "a67e0e48-f98e-42dd-8d3b-a7879bf48f4b",
   "metadata": {},
   "outputs": [
    {
     "data": {
      "text/plain": [
       "[0,\n",
       " 1,\n",
       " 2,\n",
       " 3,\n",
       " 4,\n",
       " 4,\n",
       " 5,\n",
       " 5,\n",
       " 7,\n",
       " 0,\n",
       " 1,\n",
       " 2,\n",
       " 3,\n",
       " 4,\n",
       " 4,\n",
       " 5,\n",
       " 5,\n",
       " 7,\n",
       " 0,\n",
       " 1,\n",
       " 2,\n",
       " 3,\n",
       " 4,\n",
       " 4,\n",
       " 5,\n",
       " 5,\n",
       " 7,\n",
       " 0,\n",
       " 1,\n",
       " 2,\n",
       " 3,\n",
       " 4,\n",
       " 4,\n",
       " 5,\n",
       " 5,\n",
       " 7]"
      ]
     },
     "execution_count": 19,
     "metadata": {},
     "output_type": "execute_result"
    }
   ],
   "source": [
    "list_num=[5,0,4,1,2,3,4,5]\n",
    "list_num.sort()\n",
    "list_num\n",
    "list_num.append(7)\n",
    "list_num\n",
    "list_num*=2\n",
    "list_num\n",
    "list_num*=2\n",
    "list_num"
   ]
  },
  {
   "cell_type": "code",
   "execution_count": 23,
   "id": "ab2d50be-817c-4576-80fe-712f50356c68",
   "metadata": {},
   "outputs": [
    {
     "data": {
      "text/plain": [
       "False"
      ]
     },
     "execution_count": 23,
     "metadata": {},
     "output_type": "execute_result"
    }
   ],
   "source": [
    "all([0])#Checks all ele in list are True\n",
    "        #Zero(0) is falsy value"
   ]
  },
  {
   "cell_type": "code",
   "execution_count": 24,
   "id": "11daac48-8ec6-4995-8c6a-56beaf0bab18",
   "metadata": {},
   "outputs": [
    {
     "data": {
      "text/plain": [
       "False"
      ]
     },
     "execution_count": 24,
     "metadata": {},
     "output_type": "execute_result"
    }
   ],
   "source": [
    "all([0,1])"
   ]
  },
  {
   "cell_type": "code",
   "execution_count": 26,
   "id": "b36f295e-3a93-49e0-ac56-309437d728ab",
   "metadata": {},
   "outputs": [
    {
     "data": {
      "text/plain": [
       "True"
      ]
     },
     "execution_count": 26,
     "metadata": {},
     "output_type": "execute_result"
    }
   ],
   "source": [
    "all([1,2,3,0.5])"
   ]
  },
  {
   "cell_type": "code",
   "execution_count": 27,
   "id": "99eaaf2e-672e-49b5-ad45-9763e07b5e47",
   "metadata": {},
   "outputs": [
    {
     "data": {
      "text/plain": [
       "True"
      ]
     },
     "execution_count": 27,
     "metadata": {},
     "output_type": "execute_result"
    }
   ],
   "source": [
    "new_list = []\n",
    "all(new_list)"
   ]
  },
  {
   "cell_type": "code",
   "execution_count": 28,
   "id": "73509956-e340-4ea6-a973-9e1116559ac4",
   "metadata": {},
   "outputs": [
    {
     "data": {
      "text/plain": [
       "False"
      ]
     },
     "execution_count": 28,
     "metadata": {},
     "output_type": "execute_result"
    }
   ],
   "source": [
    "any([0])"
   ]
  },
  {
   "cell_type": "code",
   "execution_count": 29,
   "id": "04c15abd-2c18-4dbc-b024-bf94966f9a6a",
   "metadata": {},
   "outputs": [
    {
     "data": {
      "text/plain": [
       "True"
      ]
     },
     "execution_count": 29,
     "metadata": {},
     "output_type": "execute_result"
    }
   ],
   "source": [
    "any([1])"
   ]
  },
  {
   "cell_type": "code",
   "execution_count": 30,
   "id": "d627a7e6-d084-447f-a9a0-3a6955d0f574",
   "metadata": {},
   "outputs": [
    {
     "data": {
      "text/plain": [
       "True"
      ]
     },
     "execution_count": 30,
     "metadata": {},
     "output_type": "execute_result"
    }
   ],
   "source": [
    "any([0,1])"
   ]
  },
  {
   "cell_type": "code",
   "execution_count": 31,
   "id": "403d5df9-6aa2-4341-83e3-f71ecefea90e",
   "metadata": {},
   "outputs": [
    {
     "data": {
      "text/plain": [
       "False"
      ]
     },
     "execution_count": 31,
     "metadata": {},
     "output_type": "execute_result"
    }
   ],
   "source": [
    "any([])"
   ]
  },
  {
   "cell_type": "code",
   "execution_count": 35,
   "id": "4abf8ae9-9e2f-401a-9168-e3c15d474a5a",
   "metadata": {},
   "outputs": [
    {
     "name": "stdout",
     "output_type": "stream",
     "text": [
      "['A', 'B', 'C', 'D']\n",
      "['A', 'B']\n",
      "['A', 'B', 'C', 'D', 'E', 'F', 'G']\n"
     ]
    }
   ],
   "source": [
    "my_chars = ['A','B','C','D','E','F','G']\n",
    "new_chars = my_chars[0:4]\n",
    "print(new_chars)\n",
    "now_new_chars = my_chars[0:2]\n",
    "print(now_new_chars)\n",
    "print(my_chars)"
   ]
  },
  {
   "cell_type": "code",
   "execution_count": 40,
   "id": "3bc6465f-81c2-4808-ba29-7dc235c713eb",
   "metadata": {},
   "outputs": [
    {
     "name": "stdout",
     "output_type": "stream",
     "text": [
      "['D', 'E', 'F']\n"
     ]
    }
   ],
   "source": [
    "my_chars = ['A','B','C','D','E','F','G']\n",
    "my_chars[7:]\n",
    "my_chars[:3]\n",
    "new_chars = my_chars[0:-4]\n",
    "now_new_chars = my_chars[-4:-1]\n",
    "print(now_new_chars)"
   ]
  },
  {
   "cell_type": "code",
   "execution_count": null,
   "id": "6c3bf9f8-8a6a-4ffd-92f0-b5e8d4873eef",
   "metadata": {},
   "outputs": [],
   "source": []
  }
 ],
 "metadata": {
  "kernelspec": {
   "display_name": "Python 3 (ipykernel)",
   "language": "python",
   "name": "python3"
  },
  "language_info": {
   "codemirror_mode": {
    "name": "ipython",
    "version": 3
   },
   "file_extension": ".py",
   "mimetype": "text/x-python",
   "name": "python",
   "nbconvert_exporter": "python",
   "pygments_lexer": "ipython3",
   "version": "3.11.7"
  }
 },
 "nbformat": 4,
 "nbformat_minor": 5
}
