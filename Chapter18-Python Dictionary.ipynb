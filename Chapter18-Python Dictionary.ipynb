{
 "cells": [
  {
   "cell_type": "code",
   "execution_count": 2,
   "id": "d296d184-27ae-4b42-a73a-6825fbe52781",
   "metadata": {},
   "outputs": [
    {
     "data": {
      "text/plain": [
       "{}"
      ]
     },
     "execution_count": 2,
     "metadata": {},
     "output_type": "execute_result"
    }
   ],
   "source": [
    "empty_dict={}\n",
    "empty_dict"
   ]
  },
  {
   "cell_type": "code",
   "execution_count": 13,
   "id": "1fef4c21-3a27-42b3-9bf5-341dac5b0972",
   "metadata": {},
   "outputs": [
    {
     "data": {
      "text/plain": [
       "{'name': 'Prashant', 'address': 'SG', 'Contact': '6585108'}"
      ]
     },
     "execution_count": 13,
     "metadata": {},
     "output_type": "execute_result"
    }
   ],
   "source": [
    "bike_address = {\"name\":\"Prashant\",\"address\":\"SG\",\"Contact\":\"6585108\"}\n",
    "bike_address"
   ]
  },
  {
   "cell_type": "code",
   "execution_count": 11,
   "id": "e14f73b7-f2c6-4859-97d4-b48450a5345e",
   "metadata": {},
   "outputs": [
    {
     "data": {
      "text/plain": [
       "{1: 45, 2: 55, 3: 65}"
      ]
     },
     "execution_count": 11,
     "metadata": {},
     "output_type": "execute_result"
    }
   ],
   "source": [
    "int_dict = {1:45,2:55,3:65} # Integer Dictionary\n",
    "int_dict"
   ]
  },
  {
   "cell_type": "code",
   "execution_count": 10,
   "id": "210faee2-f535-4451-8f44-6ac9b4d7386a",
   "metadata": {},
   "outputs": [
    {
     "data": {
      "text/plain": [
       "55"
      ]
     },
     "execution_count": 10,
     "metadata": {},
     "output_type": "execute_result"
    }
   ],
   "source": [
    "int_dict[2]"
   ]
  },
  {
   "cell_type": "code",
   "execution_count": 15,
   "id": "0cd2a668-f4b0-41f2-a43b-8a09e7f9dfe1",
   "metadata": {},
   "outputs": [
    {
     "data": {
      "text/plain": [
       "{1: 45, 2: 55, 3: 75}"
      ]
     },
     "execution_count": 15,
     "metadata": {},
     "output_type": "execute_result"
    }
   ],
   "source": [
    "int_dict = {1:45,2:55,3:85,3:75} #Dictionary keys must be unique otherwise it will override or take the last key\n",
    "int_dict"
   ]
  },
  {
   "cell_type": "code",
   "execution_count": 18,
   "id": "18a90525-ba7c-4ed2-9ad8-ebc0bda885aa",
   "metadata": {},
   "outputs": [
    {
     "data": {
      "text/plain": [
       "dict_keys(['Henry', 'Samuel', 'Ingrid'])"
      ]
     },
     "execution_count": 18,
     "metadata": {},
     "output_type": "execute_result"
    }
   ],
   "source": [
    "student_details = {\"Henry\":1995,\"Samuel\":1999,\"Ingrid\":2005}\n",
    "student_details.keys() # keys() will return only keys from Dict\n"
   ]
  },
  {
   "cell_type": "code",
   "execution_count": 19,
   "id": "6074a487-cc17-4986-86d4-332fccdbfdf5",
   "metadata": {},
   "outputs": [
    {
     "data": {
      "text/plain": [
       "True"
      ]
     },
     "execution_count": 19,
     "metadata": {},
     "output_type": "execute_result"
    }
   ],
   "source": [
    "\"Samuel\" in student_details.keys()"
   ]
  },
  {
   "cell_type": "code",
   "execution_count": 20,
   "id": "d0febb46-06d0-4566-9210-5a0ea18645be",
   "metadata": {},
   "outputs": [
    {
     "data": {
      "text/plain": [
       "False"
      ]
     },
     "execution_count": 20,
     "metadata": {},
     "output_type": "execute_result"
    }
   ],
   "source": [
    "\"Andrew\" in student_details.keys()"
   ]
  },
  {
   "cell_type": "code",
   "execution_count": 22,
   "id": "5d7c7cb4-eacb-4c3b-a394-d9f93d545dec",
   "metadata": {},
   "outputs": [
    {
     "data": {
      "text/plain": [
       "dict_values([1995, 1999, 2005])"
      ]
     },
     "execution_count": 22,
     "metadata": {},
     "output_type": "execute_result"
    }
   ],
   "source": [
    "student_details.values() # values() will return only values from Dict"
   ]
  },
  {
   "cell_type": "code",
   "execution_count": 23,
   "id": "70c44824-ac6e-4d87-86e7-9a821402202e",
   "metadata": {},
   "outputs": [
    {
     "data": {
      "text/plain": [
       "{False: 'Daniel', 'Aria': [1, 2, 3], 'Jacob': True}"
      ]
     },
     "execution_count": 23,
     "metadata": {},
     "output_type": "execute_result"
    }
   ],
   "source": [
    "mixed_dict={False:\"Daniel\",\"Aria\":[1,2,3],\"Jacob\":True} # mixed dictionay\n",
    "mixed_dict"
   ]
  },
  {
   "cell_type": "code",
   "execution_count": 24,
   "id": "455dc340-40fa-48ea-a844-0ee7d37ba217",
   "metadata": {},
   "outputs": [
    {
     "data": {
      "text/plain": [
       "[1, 2, 3]"
      ]
     },
     "execution_count": 24,
     "metadata": {},
     "output_type": "execute_result"
    }
   ],
   "source": [
    "mixed_dict[\"Aria\"]"
   ]
  },
  {
   "cell_type": "code",
   "execution_count": 25,
   "id": "f3a300bf-2d35-41f0-9ce3-a6d2fcbfa4db",
   "metadata": {},
   "outputs": [
    {
     "data": {
      "text/plain": [
       "'Daniel'"
      ]
     },
     "execution_count": 25,
     "metadata": {},
     "output_type": "execute_result"
    }
   ],
   "source": [
    "mixed_dict[False]"
   ]
  },
  {
   "cell_type": "code",
   "execution_count": 26,
   "id": "42356aec-a17a-4ad2-b9e0-739104b8cb8d",
   "metadata": {},
   "outputs": [
    {
     "data": {
      "text/plain": [
       "{'bike_owner': 'Prashant',\n",
       " 'bike_modal': 'Honda',\n",
       " 'bike_price': 25000,\n",
       " 'engine_displa': 1197}"
      ]
     },
     "execution_count": 26,
     "metadata": {},
     "output_type": "execute_result"
    }
   ],
   "source": [
    "# Assigning a value to Dict\n",
    "bike_details = {\"bike_owner\":\"Prashant\",\"bike_modal\":\"Honda\",\"bike_price\":25000,\"engine_displa\":1197}\n",
    "bike_details"
   ]
  },
  {
   "cell_type": "code",
   "execution_count": 28,
   "id": "33e5f1ae-4ebc-4d53-810f-20056afe8353",
   "metadata": {},
   "outputs": [
    {
     "data": {
      "text/plain": [
       "{'bike_owner': 'Prashant',\n",
       " 'bike_modal': 'Honda',\n",
       " 'bike_price': 25000,\n",
       " 'engine_displa': 1197,\n",
       " 'num_cylinders': 2}"
      ]
     },
     "execution_count": 28,
     "metadata": {},
     "output_type": "execute_result"
    }
   ],
   "source": [
    "bike_details[\"num_cylinders\"] = 2 # Adding new record\n",
    "bike_details"
   ]
  },
  {
   "cell_type": "code",
   "execution_count": 29,
   "id": "3ab04bb9-0386-4337-b043-a56014a4f26b",
   "metadata": {},
   "outputs": [
    {
     "data": {
      "text/plain": [
       "{'bike_owner': 'Prashant',\n",
       " 'bike_modal': 'Honda',\n",
       " 'bike_price': 30000,\n",
       " 'engine_displa': 1197,\n",
       " 'num_cylinders': 2}"
      ]
     },
     "execution_count": 29,
     "metadata": {},
     "output_type": "execute_result"
    }
   ],
   "source": [
    "# Update the dictionay\n",
    "bike_details['bike_price'] = 30000\n",
    "bike_details"
   ]
  },
  {
   "cell_type": "code",
   "execution_count": 30,
   "id": "70349853-7776-43f3-a332-6e3565e9d497",
   "metadata": {},
   "outputs": [
    {
     "data": {
      "text/plain": [
       "30000"
      ]
     },
     "execution_count": 30,
     "metadata": {},
     "output_type": "execute_result"
    }
   ],
   "source": [
    "bike_details.get('bike_price')"
   ]
  },
  {
   "cell_type": "code",
   "execution_count": 31,
   "id": "e379bc26-efd1-4803-920f-b130fb0a8289",
   "metadata": {},
   "outputs": [],
   "source": [
    "# Delete the dictionary\n",
    "del bike_details[\"engine_displa\"]"
   ]
  },
  {
   "cell_type": "code",
   "execution_count": 32,
   "id": "c7566869-093c-4b9f-ac36-4920905e1fa8",
   "metadata": {},
   "outputs": [
    {
     "data": {
      "text/plain": [
       "{'bike_owner': 'Prashant',\n",
       " 'bike_modal': 'Honda',\n",
       " 'bike_price': 30000,\n",
       " 'num_cylinders': 2}"
      ]
     },
     "execution_count": 32,
     "metadata": {},
     "output_type": "execute_result"
    }
   ],
   "source": [
    "bike_details"
   ]
  },
  {
   "cell_type": "code",
   "execution_count": 34,
   "id": "eb493a13-d123-4582-8ce4-480857949ab7",
   "metadata": {},
   "outputs": [
    {
     "data": {
      "text/plain": [
       "{}"
      ]
     },
     "execution_count": 34,
     "metadata": {},
     "output_type": "execute_result"
    }
   ],
   "source": [
    "# Adding items into empty dictionay\n",
    "fruit_qty = {}\n",
    "fruit_qty"
   ]
  },
  {
   "cell_type": "code",
   "execution_count": 35,
   "id": "80d3de72-e3d6-49d9-b908-8d4aec9aa3c9",
   "metadata": {},
   "outputs": [
    {
     "data": {
      "text/plain": [
       "{'Banana': 50, 'Apple': 78, 'Appricot': 40}"
      ]
     },
     "execution_count": 35,
     "metadata": {},
     "output_type": "execute_result"
    }
   ],
   "source": [
    "fruit_qty[\"Banana\"] = 50\n",
    "fruit_qty[\"Apple\"] = 78\n",
    "fruit_qty[\"Appricot\"] = 40\n",
    "fruit_qty"
   ]
  },
  {
   "cell_type": "code",
   "execution_count": 36,
   "id": "50a65bcb-76e4-4d1c-bb4a-626cee4ba6a7",
   "metadata": {},
   "outputs": [
    {
     "data": {
      "text/plain": [
       "{'Banana': 50, 'Apple': 78, 'Appricot': 40, 'orange': 50, 'Avacado': 30}"
      ]
     },
     "execution_count": 36,
     "metadata": {},
     "output_type": "execute_result"
    }
   ],
   "source": [
    "fruit_qty[\"orange\"] = 50\n",
    "fruit_qty[\"Avacado\"] = 30\n",
    "fruit_qty"
   ]
  },
  {
   "cell_type": "code",
   "execution_count": 37,
   "id": "11dba725-b71d-43e0-9f98-052c5228cee7",
   "metadata": {},
   "outputs": [
    {
     "data": {
      "text/plain": [
       "40"
      ]
     },
     "execution_count": 37,
     "metadata": {},
     "output_type": "execute_result"
    }
   ],
   "source": [
    "fruit_qty[\"Appricot\"]"
   ]
  },
  {
   "cell_type": "code",
   "execution_count": 38,
   "id": "84b876c0-20fa-48b9-a02f-dbf4c6a16e17",
   "metadata": {},
   "outputs": [
    {
     "ename": "KeyError",
     "evalue": "'BitterGuard'",
     "output_type": "error",
     "traceback": [
      "\u001b[1;31m---------------------------------------------------------------------------\u001b[0m",
      "\u001b[1;31mKeyError\u001b[0m                                  Traceback (most recent call last)",
      "Cell \u001b[1;32mIn[38], line 1\u001b[0m\n\u001b[1;32m----> 1\u001b[0m fruit_qty[\u001b[38;5;124m\"\u001b[39m\u001b[38;5;124mBitterGuard\u001b[39m\u001b[38;5;124m\"\u001b[39m]\n",
      "\u001b[1;31mKeyError\u001b[0m: 'BitterGuard'"
     ]
    }
   ],
   "source": [
    "fruit_qty[\"BitterGuard\"]"
   ]
  },
  {
   "cell_type": "code",
   "execution_count": 40,
   "id": "2524bfbf-bfba-47f1-b0e8-9b7608ae8d7f",
   "metadata": {},
   "outputs": [
    {
     "data": {
      "text/plain": [
       "{'Banana': [50, 60, 40, 55],\n",
       " 'Apple': [78, 86, 80, 60],\n",
       " 'Appricot': [40, 70, 30, 55],\n",
       " 'Orange': [70, 80, 60, 65],\n",
       " 'Avacado': [30, 50, 40, 45]}"
      ]
     },
     "execution_count": 40,
     "metadata": {},
     "output_type": "execute_result"
    }
   ],
   "source": [
    "#  combined dictionay\n",
    "fruit_qty_combined = {\"Banana\":[50,60,40,55],\"Apple\":[78,86,80,60],\"Appricot\":[40,70,30,55],\"Orange\":[70,80,60,65],\"Avacado\":[30,50,40,45]}\n",
    "fruit_qty_combined"
   ]
  },
  {
   "cell_type": "code",
   "execution_count": 41,
   "id": "0a5e48d0-e336-4989-ab4d-ccefcd9ecfb0",
   "metadata": {},
   "outputs": [
    {
     "data": {
      "text/plain": [
       "[70, 80, 60, 65]"
      ]
     },
     "execution_count": 41,
     "metadata": {},
     "output_type": "execute_result"
    }
   ],
   "source": [
    "fruit_qty_combined[\"Orange\"]"
   ]
  },
  {
   "cell_type": "code",
   "execution_count": 42,
   "id": "43998354-4c0b-4b4b-ab83-c92245e109b3",
   "metadata": {},
   "outputs": [
    {
     "data": {
      "text/plain": [
       "65"
      ]
     },
     "execution_count": 42,
     "metadata": {},
     "output_type": "execute_result"
    }
   ],
   "source": [
    "fruit_qty_combined[\"Orange\"][3]"
   ]
  },
  {
   "cell_type": "code",
   "execution_count": 43,
   "id": "4d542d57-a5ee-4232-98cd-34cee929377c",
   "metadata": {},
   "outputs": [
    {
     "data": {
      "text/plain": [
       "45"
      ]
     },
     "execution_count": 43,
     "metadata": {},
     "output_type": "execute_result"
    }
   ],
   "source": [
    "fruit_qty_combined[\"Avacado\"][3]"
   ]
  },
  {
   "cell_type": "code",
   "execution_count": 44,
   "id": "c3f1115d-bce3-4121-b073-3e21bfb7ee38",
   "metadata": {},
   "outputs": [
    {
     "data": {
      "text/plain": [
       "{'Banana': {'Fri': 15, 'Sat': 20, 'Sun': 25},\n",
       " 'Apple': {'Fri': 10, 'Sat': 20, 'Sun': 30},\n",
       " 'Appricot': {'Fri': 30, 'Sat': 40, 'Sun': 50},\n",
       " 'Orange': {'Fri': 50, 'Sat': 70, 'Sun': 60},\n",
       " 'Avacado': {'Fri': 60, 'Sat': 70, 'Sun': 80}}"
      ]
     },
     "execution_count": 44,
     "metadata": {},
     "output_type": "execute_result"
    }
   ],
   "source": [
    "fruit_qty_consumed = {\"Banana\":{\"Fri\":15,\"Sat\":20,\"Sun\":25},\"Apple\":{\"Fri\":10,\"Sat\":20,\"Sun\":30},\"Appricot\":{\"Fri\":30,\"Sat\":40,\"Sun\":50},\"Orange\":{\"Fri\":50,\"Sat\":70,\"Sun\":60},\"Avacado\":{\"Fri\":60,\"Sat\":70,\"Sun\":80}}\n",
    "fruit_qty_consumed"
   ]
  },
  {
   "cell_type": "code",
   "execution_count": 45,
   "id": "0316cb9d-7e9e-4d08-9ae8-5103a2a9e03a",
   "metadata": {},
   "outputs": [
    {
     "data": {
      "text/plain": [
       "{'Fri': 10, 'Sat': 20, 'Sun': 30}"
      ]
     },
     "execution_count": 45,
     "metadata": {},
     "output_type": "execute_result"
    }
   ],
   "source": [
    "fruit_qty_consumed[\"Apple\"]"
   ]
  },
  {
   "cell_type": "code",
   "execution_count": 48,
   "id": "80a465df-bbba-4855-aa95-ec277fee9d20",
   "metadata": {},
   "outputs": [
    {
     "data": {
      "text/plain": [
       "50"
      ]
     },
     "execution_count": 48,
     "metadata": {},
     "output_type": "execute_result"
    }
   ],
   "source": [
    "fruit_qty_consumed[\"Appricot\"][\"Sun\"]"
   ]
  },
  {
   "cell_type": "code",
   "execution_count": 49,
   "id": "b6908635-c5fb-494b-97c9-7dd1bfa20b68",
   "metadata": {},
   "outputs": [
    {
     "ename": "KeyError",
     "evalue": "'Mon'",
     "output_type": "error",
     "traceback": [
      "\u001b[1;31m---------------------------------------------------------------------------\u001b[0m",
      "\u001b[1;31mKeyError\u001b[0m                                  Traceback (most recent call last)",
      "Cell \u001b[1;32mIn[49], line 1\u001b[0m\n\u001b[1;32m----> 1\u001b[0m fruit_qty_consumed[\u001b[38;5;124m\"\u001b[39m\u001b[38;5;124mAppricot\u001b[39m\u001b[38;5;124m\"\u001b[39m][\u001b[38;5;124m\"\u001b[39m\u001b[38;5;124mMon\u001b[39m\u001b[38;5;124m\"\u001b[39m]\n",
      "\u001b[1;31mKeyError\u001b[0m: 'Mon'"
     ]
    }
   ],
   "source": [
    "fruit_qty_consumed[\"Appricot\"][\"Mon\"]"
   ]
  },
  {
   "cell_type": "code",
   "execution_count": 50,
   "id": "94f1e9ec-19c4-4b9c-81e8-a0ff00df81ff",
   "metadata": {},
   "outputs": [
    {
     "data": {
      "text/plain": [
       "4"
      ]
     },
     "execution_count": 50,
     "metadata": {},
     "output_type": "execute_result"
    }
   ],
   "source": [
    "# Invoking Functions in Dictionay\n",
    "bike_details = {\"bike_owner\":\"Prashant\",\"bike_modal\":\"Honda\",\"bike_price\":25000,\"engine_displa\":1197}\n",
    "len(bike_details)"
   ]
  },
  {
   "cell_type": "code",
   "execution_count": 52,
   "id": "98146eee-c2ed-401d-b6ed-70a408b868f3",
   "metadata": {},
   "outputs": [
    {
     "data": {
      "text/plain": [
       "4"
      ]
     },
     "execution_count": 52,
     "metadata": {},
     "output_type": "execute_result"
    }
   ],
   "source": [
    "len(bike_details.keys())"
   ]
  },
  {
   "cell_type": "code",
   "execution_count": 53,
   "id": "eb967e47-11c5-4eda-8d9d-50467d520b93",
   "metadata": {},
   "outputs": [
    {
     "data": {
      "text/plain": [
       "4"
      ]
     },
     "execution_count": 53,
     "metadata": {},
     "output_type": "execute_result"
    }
   ],
   "source": [
    "len(bike_details.values())"
   ]
  },
  {
   "cell_type": "code",
   "execution_count": 55,
   "id": "5ad05ddf-8281-4012-8b1f-edd8347d15fa",
   "metadata": {},
   "outputs": [
    {
     "data": {
      "text/plain": [
       "['bike_modal', 'bike_owner', 'bike_price', 'engine_displa']"
      ]
     },
     "execution_count": 55,
     "metadata": {},
     "output_type": "execute_result"
    }
   ],
   "source": [
    "sorted(bike_details) # It will return sorted keys of dictionary"
   ]
  },
  {
   "cell_type": "code",
   "execution_count": 56,
   "id": "dbf64f7f-fe46-4316-9271-d499ff85e527",
   "metadata": {},
   "outputs": [
    {
     "data": {
      "text/plain": [
       "['engine_displa', 'bike_price', 'bike_owner', 'bike_modal']"
      ]
     },
     "execution_count": 56,
     "metadata": {},
     "output_type": "execute_result"
    }
   ],
   "source": [
    "sorted(bike_details,reverse=True)"
   ]
  },
  {
   "cell_type": "code",
   "execution_count": 57,
   "id": "6d3dc253-14f4-4444-85ca-49e574eb171b",
   "metadata": {},
   "outputs": [
    {
     "ename": "TypeError",
     "evalue": "'<' not supported between instances of 'int' and 'str'",
     "output_type": "error",
     "traceback": [
      "\u001b[1;31m---------------------------------------------------------------------------\u001b[0m",
      "\u001b[1;31mTypeError\u001b[0m                                 Traceback (most recent call last)",
      "Cell \u001b[1;32mIn[57], line 1\u001b[0m\n\u001b[1;32m----> 1\u001b[0m \u001b[38;5;28msorted\u001b[39m(bike_details\u001b[38;5;241m.\u001b[39mvalues())\n",
      "\u001b[1;31mTypeError\u001b[0m: '<' not supported between instances of 'int' and 'str'"
     ]
    }
   ],
   "source": [
    "sorted(bike_details.values())"
   ]
  },
  {
   "cell_type": "code",
   "execution_count": 58,
   "id": "7cf02e06-621b-4cc9-bf3c-f6ab45a2f04c",
   "metadata": {},
   "outputs": [
    {
     "data": {
      "text/plain": [
       "dict_items([('bike_owner', 'Prashant'), ('bike_modal', 'Honda'), ('bike_price', 25000), ('engine_displa', 1197)])"
      ]
     },
     "execution_count": 58,
     "metadata": {},
     "output_type": "execute_result"
    }
   ],
   "source": [
    "bike_details.items()"
   ]
  },
  {
   "cell_type": "code",
   "execution_count": 59,
   "id": "bc70d169-03e2-45f5-9960-4a74e4e7226e",
   "metadata": {},
   "outputs": [
    {
     "data": {
      "text/plain": [
       "{'bike_owner': 'Prashant',\n",
       " 'bike_modal': 'Honda',\n",
       " 'bike_price': 25000,\n",
       " 'engine_displa': 1197}"
      ]
     },
     "execution_count": 59,
     "metadata": {},
     "output_type": "execute_result"
    }
   ],
   "source": [
    "# copy bike_details\n",
    "copy_bike_details = bike_details.copy()\n",
    "copy_bike_details"
   ]
  },
  {
   "cell_type": "code",
   "execution_count": 61,
   "id": "64bda1a2-586d-4e70-835c-894b1ae04ea8",
   "metadata": {},
   "outputs": [
    {
     "data": {
      "text/plain": [
       "1197"
      ]
     },
     "execution_count": 61,
     "metadata": {},
     "output_type": "execute_result"
    }
   ],
   "source": [
    "copy_bike_details.pop(\"engine_displa\")"
   ]
  },
  {
   "cell_type": "code",
   "execution_count": 62,
   "id": "146610ef-b7b9-4ac9-9b06-424a337e48d6",
   "metadata": {},
   "outputs": [
    {
     "data": {
      "text/plain": [
       "{'bike_owner': 'Prashant', 'bike_modal': 'Honda', 'bike_price': 25000}"
      ]
     },
     "execution_count": 62,
     "metadata": {},
     "output_type": "execute_result"
    }
   ],
   "source": [
    "copy_bike_details"
   ]
  },
  {
   "cell_type": "code",
   "execution_count": 63,
   "id": "dd194b90-e1ca-46e9-ac27-999e518cbe0e",
   "metadata": {},
   "outputs": [
    {
     "ename": "KeyError",
     "evalue": "'engine_displa'",
     "output_type": "error",
     "traceback": [
      "\u001b[1;31m---------------------------------------------------------------------------\u001b[0m",
      "\u001b[1;31mKeyError\u001b[0m                                  Traceback (most recent call last)",
      "Cell \u001b[1;32mIn[63], line 1\u001b[0m\n\u001b[1;32m----> 1\u001b[0m copy_bike_details\u001b[38;5;241m.\u001b[39mpop(\u001b[38;5;124m\"\u001b[39m\u001b[38;5;124mengine_displa\u001b[39m\u001b[38;5;124m\"\u001b[39m)\n",
      "\u001b[1;31mKeyError\u001b[0m: 'engine_displa'"
     ]
    }
   ],
   "source": [
    "copy_bike_details.pop(\"engine_displa\")"
   ]
  },
  {
   "cell_type": "code",
   "execution_count": 67,
   "id": "5112d94c-ef3c-4b67-b633-ce5c404e0d8f",
   "metadata": {},
   "outputs": [
    {
     "data": {
      "text/plain": [
       "('bike_owner', 'Prashant')"
      ]
     },
     "execution_count": 67,
     "metadata": {},
     "output_type": "execute_result"
    }
   ],
   "source": [
    "copy_bike_details.popitem() # popitem will pick any random key:value and remove from dictionary"
   ]
  },
  {
   "cell_type": "code",
   "execution_count": 65,
   "id": "e058c7c7-074a-4678-821f-628133ff0202",
   "metadata": {},
   "outputs": [
    {
     "data": {
      "text/plain": [
       "{'bike_owner': 'Prashant', 'bike_modal': 'Honda'}"
      ]
     },
     "execution_count": 65,
     "metadata": {},
     "output_type": "execute_result"
    }
   ],
   "source": [
    "copy_bike_details"
   ]
  },
  {
   "cell_type": "code",
   "execution_count": 66,
   "id": "9faad5f1-2bc1-4472-8fae-e3566b70a2fd",
   "metadata": {},
   "outputs": [
    {
     "data": {
      "text/plain": [
       "('bike_modal', 'Honda')"
      ]
     },
     "execution_count": 66,
     "metadata": {},
     "output_type": "execute_result"
    }
   ],
   "source": [
    "copy_bike_details.popitem()"
   ]
  },
  {
   "cell_type": "code",
   "execution_count": 68,
   "id": "e77b6fb6-423b-4189-b7ce-6c83ac85edcf",
   "metadata": {},
   "outputs": [
    {
     "data": {
      "text/plain": [
       "{}"
      ]
     },
     "execution_count": 68,
     "metadata": {},
     "output_type": "execute_result"
    }
   ],
   "source": [
    "copy_bike_details"
   ]
  },
  {
   "cell_type": "code",
   "execution_count": 71,
   "id": "d01f1c3a-0e55-4982-95cb-ed6f214dd4c2",
   "metadata": {},
   "outputs": [
    {
     "data": {
      "text/plain": [
       "{'Prashant': 31, 'Sidd': 34, 'Giri': 60}"
      ]
     },
     "execution_count": 71,
     "metadata": {},
     "output_type": "execute_result"
    }
   ],
   "source": [
    "dict_age = {\"Prashant\":32,\"Sidd\":34}\n",
    "new_dict_age = {\"Prashant\":31,\"Giri\":60}\n",
    "dict_age.update(new_dict_age) # update \n",
    "dict_age"
   ]
  },
  {
   "cell_type": "code",
   "execution_count": null,
   "id": "4dd03ba7-2786-4276-9494-14cc3ff9f565",
   "metadata": {},
   "outputs": [],
   "source": []
  }
 ],
 "metadata": {
  "kernelspec": {
   "display_name": "Python 3 (ipykernel)",
   "language": "python",
   "name": "python3"
  },
  "language_info": {
   "codemirror_mode": {
    "name": "ipython",
    "version": 3
   },
   "file_extension": ".py",
   "mimetype": "text/x-python",
   "name": "python",
   "nbconvert_exporter": "python",
   "pygments_lexer": "ipython3",
   "version": "3.11.7"
  }
 },
 "nbformat": 4,
 "nbformat_minor": 5
}
