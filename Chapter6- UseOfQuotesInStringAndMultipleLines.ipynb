{
 "cells": [
  {
   "cell_type": "code",
   "execution_count": 1,
   "id": "c7b44755-363d-49fd-bd82-186f0736af4a",
   "metadata": {},
   "outputs": [
    {
     "name": "stdout",
     "output_type": "stream",
     "text": [
      "I am a single quoted string\n"
     ]
    }
   ],
   "source": [
    "print('I am a single quoted string')"
   ]
  },
  {
   "cell_type": "code",
   "execution_count": 2,
   "id": "3f958c4f-b8b0-4b5a-adac-66c2ad81ec8f",
   "metadata": {},
   "outputs": [
    {
     "name": "stdout",
     "output_type": "stream",
     "text": [
      "I am a double quoted string\n"
     ]
    }
   ],
   "source": [
    "print(\"I am a double quoted string\")"
   ]
  },
  {
   "cell_type": "code",
   "execution_count": 4,
   "id": "9001301e-4d15-4a2b-84fc-700b14cdfff5",
   "metadata": {},
   "outputs": [
    {
     "name": "stdout",
     "output_type": "stream",
     "text": [
      "Python is awesome\n"
     ]
    }
   ],
   "source": [
    "print(\"Python \" + \"is\" + \" \" + \"awesome\")"
   ]
  },
  {
   "cell_type": "code",
   "execution_count": 6,
   "id": "df335218-9539-4260-ac28-3b249db08ac2",
   "metadata": {},
   "outputs": [
    {
     "name": "stdout",
     "output_type": "stream",
     "text": [
      "Python Python Python \n"
     ]
    }
   ],
   "source": [
    "print('Python ' * 3)"
   ]
  },
  {
   "cell_type": "code",
   "execution_count": 7,
   "id": "7b84d836-8828-4789-a629-66df3b235fe7",
   "metadata": {},
   "outputs": [
    {
     "name": "stdin",
     "output_type": "stream",
     "text": [
      " Rice + Pulse\n"
     ]
    },
    {
     "name": "stdout",
     "output_type": "stream",
     "text": [
      "You hadRice + Pulse!That sounds delicious\n"
     ]
    }
   ],
   "source": [
    "question = \"What did you have for lunch\"\n",
    "answer = input()\n",
    "print(\"You had\" + answer +\"!\" + \"That sounds delicious\")"
   ]
  },
  {
   "cell_type": "code",
   "execution_count": 9,
   "id": "28076dfa-7828-427d-9ac5-875b9784ff06",
   "metadata": {},
   "outputs": [
    {
     "name": "stdout",
     "output_type": "stream",
     "text": [
      "I'm learning Python\n"
     ]
    }
   ],
   "source": [
    "print(\"I'm learning Python\")"
   ]
  },
  {
   "cell_type": "code",
   "execution_count": 10,
   "id": "6cdfd72f-5503-440d-ab27-90867e0d8db7",
   "metadata": {},
   "outputs": [
    {
     "name": "stdout",
     "output_type": "stream",
     "text": [
      "John said \"Hello there!\"\n"
     ]
    }
   ],
   "source": [
    "print('John said \"Hello there!\"')"
   ]
  },
  {
   "cell_type": "code",
   "execution_count": 17,
   "id": "155a94a1-9319-46b1-8749-3938430c0a23",
   "metadata": {},
   "outputs": [
    {
     "name": "stdout",
     "output_type": "stream",
     "text": [
      "I'm learning python\n"
     ]
    }
   ],
   "source": [
    "print('I\\'m learning python')"
   ]
  },
  {
   "cell_type": "code",
   "execution_count": 18,
   "id": "a98a0ef1-0a38-4226-8f4f-9bb5d33f6972",
   "metadata": {},
   "outputs": [
    {
     "name": "stdout",
     "output_type": "stream",
     "text": [
      "how'r you\n"
     ]
    }
   ],
   "source": [
    "print('how\\'r you')"
   ]
  },
  {
   "cell_type": "code",
   "execution_count": 19,
   "id": "4997c1a9-6f86-4e5c-a828-14e08142c63f",
   "metadata": {},
   "outputs": [
    {
     "name": "stdout",
     "output_type": "stream",
     "text": [
      "John said \"Hello there\" \n"
     ]
    }
   ],
   "source": [
    "print(\"John said \\\"Hello there\\\" \")"
   ]
  },
  {
   "cell_type": "code",
   "execution_count": 20,
   "id": "ffdeef76-f781-4b18-9726-962338be7231",
   "metadata": {},
   "outputs": [
    {
     "name": "stdout",
     "output_type": "stream",
     "text": [
      "Hello Prashant! \n",
      " How are you?\n"
     ]
    }
   ],
   "source": [
    "print(\"Hello Prashant! \\n How are you?\")"
   ]
  },
  {
   "cell_type": "code",
   "execution_count": 22,
   "id": "9836b68c-73e8-4986-89f7-c7624114f062",
   "metadata": {},
   "outputs": [
    {
     "name": "stdout",
     "output_type": "stream",
     "text": [
      "This is a very long\n",
      "\n",
      "string in python\n"
     ]
    }
   ],
   "source": [
    "print('''This is a very long\n",
    "\n",
    "string in python''')"
   ]
  },
  {
   "cell_type": "code",
   "execution_count": 24,
   "id": "7cd418aa-8bc3-47a2-aa40-395cf2762b2e",
   "metadata": {},
   "outputs": [
    {
     "name": "stdout",
     "output_type": "stream",
     "text": [
      "A dog barks!\n"
     ]
    }
   ],
   "source": [
    "my_var = 'barks'\n",
    "print('A dog ' +my_var + '!')"
   ]
  },
  {
   "cell_type": "code",
   "execution_count": 27,
   "id": "31d295fe-12a7-40dc-8bc1-0886334cca2b",
   "metadata": {},
   "outputs": [
    {
     "name": "stdout",
     "output_type": "stream",
     "text": [
      "A dog barks!\n"
     ]
    }
   ],
   "source": [
    "my_var = 'barks'\n",
    "print(f'A dog {my_var}!')"
   ]
  },
  {
   "cell_type": "code",
   "execution_count": 28,
   "id": "bf280eba-bc58-47ba-91c2-aab7ae7f40e7",
   "metadata": {},
   "outputs": [
    {
     "name": "stdout",
     "output_type": "stream",
     "text": [
      "c:\\users\\Q\n"
     ]
    }
   ],
   "source": [
    "print('c:\\\\users\\\\Q')"
   ]
  },
  {
   "cell_type": "code",
   "execution_count": null,
   "id": "e90016ac-0f42-4ca2-a7d8-875b361c5736",
   "metadata": {},
   "outputs": [],
   "source": []
  }
 ],
 "metadata": {
  "kernelspec": {
   "display_name": "Python 3 (ipykernel)",
   "language": "python",
   "name": "python3"
  },
  "language_info": {
   "codemirror_mode": {
    "name": "ipython",
    "version": 3
   },
   "file_extension": ".py",
   "mimetype": "text/x-python",
   "name": "python",
   "nbconvert_exporter": "python",
   "pygments_lexer": "ipython3",
   "version": "3.11.7"
  }
 },
 "nbformat": 4,
 "nbformat_minor": 5
}
