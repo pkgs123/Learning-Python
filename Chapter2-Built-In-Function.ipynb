{
 "cells": [
  {
   "cell_type": "code",
   "execution_count": 1,
   "id": "afbd06f9-7a8d-4cd4-a3ed-9e8182d73b9c",
   "metadata": {},
   "outputs": [
    {
     "name": "stdout",
     "output_type": "stream",
     "text": [
      "Welcome to Python using jupyter editor\n"
     ]
    }
   ],
   "source": [
    "print(\"Welcome to Python using jupyter editor\")"
   ]
  },
  {
   "cell_type": "code",
   "execution_count": 2,
   "id": "dca6199e-ae50-4441-9d1e-59dbaeffde13",
   "metadata": {},
   "outputs": [
    {
     "name": "stdout",
     "output_type": "stream",
     "text": [
      "\n"
     ]
    }
   ],
   "source": [
    "print()"
   ]
  },
  {
   "cell_type": "code",
   "execution_count": 3,
   "id": "0f0120e5-a429-4d17-bebd-427d705a454c",
   "metadata": {},
   "outputs": [
    {
     "name": "stdout",
     "output_type": "stream",
     "text": [
      "\n"
     ]
    }
   ],
   "source": [
    "print(  )"
   ]
  },
  {
   "cell_type": "code",
   "execution_count": 5,
   "id": "9d5220f1-51bc-4f5a-a37d-6e85263a814a",
   "metadata": {},
   "outputs": [
    {
     "ename": "SyntaxError",
     "evalue": "invalid syntax. Perhaps you forgot a comma? (2477381463.py, line 1)",
     "output_type": "error",
     "traceback": [
      "\u001b[1;36m  Cell \u001b[1;32mIn[5], line 1\u001b[1;36m\u001b[0m\n\u001b[1;33m    print(welcome to test,)\u001b[0m\n\u001b[1;37m          ^\u001b[0m\n\u001b[1;31mSyntaxError\u001b[0m\u001b[1;31m:\u001b[0m invalid syntax. Perhaps you forgot a comma?\n"
     ]
    }
   ],
   "source": [
    "print(welcome to test,)"
   ]
  },
  {
   "cell_type": "code",
   "execution_count": 6,
   "id": "f61c7e4c-a1c4-4ce8-94d3-69499d5074b9",
   "metadata": {},
   "outputs": [
    {
     "data": {
      "text/plain": [
       "12"
      ]
     },
     "execution_count": 6,
     "metadata": {},
     "output_type": "execute_result"
    }
   ],
   "source": [
    "len(\"Hello Oliver\")"
   ]
  },
  {
   "cell_type": "code",
   "execution_count": 7,
   "id": "5537235c-b15e-492d-ac7a-a4d2238efd6d",
   "metadata": {},
   "outputs": [
    {
     "name": "stdout",
     "output_type": "stream",
     "text": [
      "9\n"
     ]
    }
   ],
   "source": [
    "print(5+4)"
   ]
  },
  {
   "cell_type": "code",
   "execution_count": 8,
   "id": "6d4a059b-dfcf-4781-95e1-8430f2b0539d",
   "metadata": {},
   "outputs": [
    {
     "data": {
      "text/plain": [
       "17"
      ]
     },
     "execution_count": 8,
     "metadata": {},
     "output_type": "execute_result"
    }
   ],
   "source": [
    "abs(17)"
   ]
  },
  {
   "cell_type": "code",
   "execution_count": 9,
   "id": "5209bc03-35c9-40a2-8e1c-0cfcc50c263a",
   "metadata": {},
   "outputs": [
    {
     "data": {
      "text/plain": [
       "17"
      ]
     },
     "execution_count": 9,
     "metadata": {},
     "output_type": "execute_result"
    }
   ],
   "source": [
    "abs(-17)"
   ]
  },
  {
   "cell_type": "code",
   "execution_count": 10,
   "id": "ee6ee195-1971-426c-9b87-32081421377f",
   "metadata": {},
   "outputs": [
    {
     "data": {
      "text/plain": [
       "17.5"
      ]
     },
     "execution_count": 10,
     "metadata": {},
     "output_type": "execute_result"
    }
   ],
   "source": [
    "abs(4.5 - 2*(4+7))"
   ]
  },
  {
   "cell_type": "code",
   "execution_count": 11,
   "id": "9d0d8c4d-7766-465b-af58-4957b664cc62",
   "metadata": {},
   "outputs": [
    {
     "data": {
      "text/plain": [
       "float"
      ]
     },
     "execution_count": 11,
     "metadata": {},
     "output_type": "execute_result"
    }
   ],
   "source": [
    "type(17.5)"
   ]
  },
  {
   "cell_type": "code",
   "execution_count": 12,
   "id": "f337df97-accb-4752-97c9-82444b6cf55a",
   "metadata": {},
   "outputs": [
    {
     "data": {
      "text/plain": [
       "int"
      ]
     },
     "execution_count": 12,
     "metadata": {},
     "output_type": "execute_result"
    }
   ],
   "source": [
    "type(17)"
   ]
  },
  {
   "cell_type": "code",
   "execution_count": 13,
   "id": "b1ea89d3-de16-4a3e-9f69-2cb8cd64483c",
   "metadata": {},
   "outputs": [
    {
     "data": {
      "text/plain": [
       "str"
      ]
     },
     "execution_count": 13,
     "metadata": {},
     "output_type": "execute_result"
    }
   ],
   "source": [
    "type(\"HelloOliver\")"
   ]
  },
  {
   "cell_type": "code",
   "execution_count": 14,
   "id": "607a04fb-bd94-48a0-8b01-c72bea8c11bb",
   "metadata": {},
   "outputs": [
    {
     "data": {
      "text/plain": [
       "18"
      ]
     },
     "execution_count": 14,
     "metadata": {},
     "output_type": "execute_result"
    }
   ],
   "source": [
    "round(17.7)"
   ]
  },
  {
   "cell_type": "code",
   "execution_count": 15,
   "id": "1f895513-3361-4cd3-b693-f01b4c07163d",
   "metadata": {},
   "outputs": [
    {
     "data": {
      "text/plain": [
       "-18"
      ]
     },
     "execution_count": 15,
     "metadata": {},
     "output_type": "execute_result"
    }
   ],
   "source": [
    "round(-17.5)"
   ]
  },
  {
   "cell_type": "code",
   "execution_count": 16,
   "id": "ec900a3b-320b-4a0b-8d8e-56c2a9f91081",
   "metadata": {},
   "outputs": [
    {
     "data": {
      "text/plain": [
       "-17"
      ]
     },
     "execution_count": 16,
     "metadata": {},
     "output_type": "execute_result"
    }
   ],
   "source": [
    "round(-17.4)"
   ]
  },
  {
   "cell_type": "code",
   "execution_count": 17,
   "id": "3407fa6e-3b6b-42c8-ade0-e93f0ee8bc40",
   "metadata": {},
   "outputs": [
    {
     "data": {
      "text/plain": [
       "23"
      ]
     },
     "execution_count": 17,
     "metadata": {},
     "output_type": "execute_result"
    }
   ],
   "source": [
    "max(9.5,6,12,23,18)"
   ]
  },
  {
   "cell_type": "code",
   "execution_count": 18,
   "id": "dd4b9263-d7f5-4761-811a-d0373ad08ed3",
   "metadata": {},
   "outputs": [
    {
     "data": {
      "text/plain": [
       "6"
      ]
     },
     "execution_count": 18,
     "metadata": {},
     "output_type": "execute_result"
    }
   ],
   "source": [
    "min(9.5,6,12,23,18)"
   ]
  },
  {
   "cell_type": "code",
   "execution_count": null,
   "id": "5dbada17-3847-4222-b4e8-ee399f3c890e",
   "metadata": {},
   "outputs": [],
   "source": []
  }
 ],
 "metadata": {
  "kernelspec": {
   "display_name": "Python 3 (ipykernel)",
   "language": "python",
   "name": "python3"
  },
  "language_info": {
   "codemirror_mode": {
    "name": "ipython",
    "version": 3
   },
   "file_extension": ".py",
   "mimetype": "text/x-python",
   "name": "python",
   "nbconvert_exporter": "python",
   "pygments_lexer": "ipython3",
   "version": "3.11.7"
  }
 },
 "nbformat": 4,
 "nbformat_minor": 5
}
