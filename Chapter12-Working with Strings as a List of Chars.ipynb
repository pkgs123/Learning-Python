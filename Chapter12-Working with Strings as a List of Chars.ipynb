{
 "cells": [
  {
   "cell_type": "code",
   "execution_count": 18,
   "id": "367f8565-5af2-42a1-8223-f0b7ee59ae4c",
   "metadata": {},
   "outputs": [
    {
     "name": "stdout",
     "output_type": "stream",
     "text": [
      "w\n"
     ]
    },
    {
     "ename": "TypeError",
     "evalue": "'str' object does not support item assignment",
     "output_type": "error",
     "traceback": [
      "\u001b[1;31m---------------------------------------------------------------------------\u001b[0m",
      "\u001b[1;31mTypeError\u001b[0m                                 Traceback (most recent call last)",
      "Cell \u001b[1;32mIn[18], line 4\u001b[0m\n\u001b[0;32m      2\u001b[0m \u001b[38;5;28mprint\u001b[39m(X[\u001b[38;5;241m0\u001b[39m])\n\u001b[0;32m      3\u001b[0m \u001b[38;5;66;03m# print(X[5])\u001b[39;00m\n\u001b[1;32m----> 4\u001b[0m X[\u001b[38;5;241m0\u001b[39m] \u001b[38;5;241m=\u001b[39m \u001b[38;5;124m\"\u001b[39m\u001b[38;5;124mB\u001b[39m\u001b[38;5;124m\"\u001b[39m\n\u001b[0;32m      5\u001b[0m \u001b[38;5;28mprint\u001b[39m(X[\u001b[38;5;241m0\u001b[39m])\n",
      "\u001b[1;31mTypeError\u001b[0m: 'str' object does not support item assignment"
     ]
    }
   ],
   "source": [
    "X = \"world\"\n",
    "print(X[0])\n",
    "# print(X[5])\n",
    "X[0] = \"B\"\n",
    "print(X[0])"
   ]
  },
  {
   "cell_type": "code",
   "execution_count": 21,
   "id": "a84d8c0f-f7a3-4e77-8b02-dddf64ad6cd0",
   "metadata": {},
   "outputs": [
    {
     "name": "stdout",
     "output_type": "stream",
     "text": [
      "a: w b: o c: r d: l e: d\n"
     ]
    }
   ],
   "source": [
    "x = \"world\"\n",
    "a,b,c,d,e = x\n",
    "print(\"a:\",a,\"b:\",b,\"c:\",c,\"d:\",d,\"e:\",e)"
   ]
  },
  {
   "cell_type": "code",
   "execution_count": 22,
   "id": "4972f93b-c087-4371-9550-794a43d06cbc",
   "metadata": {},
   "outputs": [
    {
     "name": "stdout",
     "output_type": "stream",
     "text": [
      "a: w b: o c: d d: d e: d\n"
     ]
    }
   ],
   "source": [
    "x = \"world\"\n",
    "a,b,_,_,_ = x\n",
    "print(\"a:\",a,\"b:\",b,\"c:\",_,\"d:\",_,\"e:\",_)"
   ]
  },
  {
   "cell_type": "code",
   "execution_count": 25,
   "id": "55053488-3658-489f-969c-852da21468bd",
   "metadata": {},
   "outputs": [
    {
     "name": "stdin",
     "output_type": "stream",
     "text": [
      "Where are you from?: India\n"
     ]
    },
    {
     "name": "stdout",
     "output_type": "stream",
     "text": [
      "Good to hear that you are from, India\n"
     ]
    },
    {
     "data": {
      "text/plain": [
       "'a'"
      ]
     },
     "execution_count": 25,
     "metadata": {},
     "output_type": "execute_result"
    }
   ],
   "source": [
    "place = input(\"Where are you from?:\")\n",
    "print(\"Good to hear that you are from,\",place)\n",
    "place[0:]\n",
    "place[-1:]"
   ]
  },
  {
   "cell_type": "code",
   "execution_count": null,
   "id": "b01a5099-6946-4f0b-8bc1-1665e8ae5b9a",
   "metadata": {},
   "outputs": [],
   "source": []
  }
 ],
 "metadata": {
  "kernelspec": {
   "display_name": "Python 3 (ipykernel)",
   "language": "python",
   "name": "python3"
  },
  "language_info": {
   "codemirror_mode": {
    "name": "ipython",
    "version": 3
   },
   "file_extension": ".py",
   "mimetype": "text/x-python",
   "name": "python",
   "nbconvert_exporter": "python",
   "pygments_lexer": "ipython3",
   "version": "3.11.7"
  }
 },
 "nbformat": 4,
 "nbformat_minor": 5
}
